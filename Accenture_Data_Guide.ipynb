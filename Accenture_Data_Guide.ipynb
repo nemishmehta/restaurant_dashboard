{
 "cells": [
  {
   "cell_type": "markdown",
   "metadata": {},
   "source": [
    "#### Entity Relationship between Tables\n",
    "\n",
    "![tables_relationship](./assets/Entity_Relation_Diagram_v0.1.png)"
   ]
  },
  {
   "cell_type": "markdown",
   "metadata": {},
   "source": [
    "##### Import Necessery Libs"
   ]
  },
  {
   "cell_type": "code",
   "execution_count": 3,
   "metadata": {},
   "outputs": [],
   "source": [
    "import pandas as pd"
   ]
  },
  {
   "cell_type": "markdown",
   "metadata": {},
   "source": [
    "##### Read CSV Files"
   ]
  },
  {
   "cell_type": "code",
   "execution_count": 4,
   "metadata": {},
   "outputs": [],
   "source": [
    "restaurant_df = pd.read_csv('./data/ODL_RESTAURANT.csv')\n",
    "order_df = pd.read_csv('./data/ODL_ORDER.csv')\n",
    "orderItem_df = pd.read_csv('./data/ODL_ORDER_ITEM.csv')\n",
    "orderables_df = pd.read_csv('./data/ODL_ORDERABLES.csv')"
   ]
  },
  {
   "cell_type": "markdown",
   "metadata": {},
   "source": [
    "##### Summaries for DF's"
   ]
  },
  {
   "cell_type": "code",
   "execution_count": 5,
   "metadata": {},
   "outputs": [
    {
     "data": {
      "text/plain": [
       "411"
      ]
     },
     "execution_count": 5,
     "metadata": {},
     "output_type": "execute_result"
    }
   ],
   "source": [
    "# Restaurant\n",
    "restaurant_df.rename(columns={\"id\":\"restaurant_id\"},inplace=True)\n",
    "restaurant_df.head()\n",
    "restaurant_df['name'].nunique()\n"
   ]
  },
  {
   "cell_type": "code",
   "execution_count": 6,
   "metadata": {},
   "outputs": [
    {
     "data": {
      "text/html": [
       "<div>\n",
       "<style scoped>\n",
       "    .dataframe tbody tr th:only-of-type {\n",
       "        vertical-align: middle;\n",
       "    }\n",
       "\n",
       "    .dataframe tbody tr th {\n",
       "        vertical-align: top;\n",
       "    }\n",
       "\n",
       "    .dataframe thead th {\n",
       "        text-align: right;\n",
       "    }\n",
       "</style>\n",
       "<table border=\"1\" class=\"dataframe\">\n",
       "  <thead>\n",
       "    <tr style=\"text-align: right;\">\n",
       "      <th></th>\n",
       "      <th>restaurant_id</th>\n",
       "      <th>creation_date</th>\n",
       "      <th>customer_id</th>\n",
       "      <th>id</th>\n",
       "    </tr>\n",
       "  </thead>\n",
       "  <tbody>\n",
       "    <tr>\n",
       "      <th>0</th>\n",
       "      <td>91</td>\n",
       "      <td>8/25/17 18:49</td>\n",
       "      <td>2858</td>\n",
       "      <td>17265</td>\n",
       "    </tr>\n",
       "    <tr>\n",
       "      <th>1</th>\n",
       "      <td>91</td>\n",
       "      <td>12/20/17 11:39</td>\n",
       "      <td>10055</td>\n",
       "      <td>44615</td>\n",
       "    </tr>\n",
       "    <tr>\n",
       "      <th>2</th>\n",
       "      <td>91</td>\n",
       "      <td>11/23/18 10:12</td>\n",
       "      <td>13703</td>\n",
       "      <td>137232</td>\n",
       "    </tr>\n",
       "    <tr>\n",
       "      <th>3</th>\n",
       "      <td>91</td>\n",
       "      <td>11/2/18 17:33</td>\n",
       "      <td>14698</td>\n",
       "      <td>131091</td>\n",
       "    </tr>\n",
       "    <tr>\n",
       "      <th>4</th>\n",
       "      <td>91</td>\n",
       "      <td>7/24/18 9:49</td>\n",
       "      <td>14299</td>\n",
       "      <td>102153</td>\n",
       "    </tr>\n",
       "  </tbody>\n",
       "</table>\n",
       "</div>"
      ],
      "text/plain": [
       "   restaurant_id   creation_date  customer_id      id\n",
       "0             91   8/25/17 18:49         2858   17265\n",
       "1             91  12/20/17 11:39        10055   44615\n",
       "2             91  11/23/18 10:12        13703  137232\n",
       "3             91   11/2/18 17:33        14698  131091\n",
       "4             91    7/24/18 9:49        14299  102153"
      ]
     },
     "execution_count": 6,
     "metadata": {},
     "output_type": "execute_result"
    }
   ],
   "source": [
    "order_df.head()"
   ]
  },
  {
   "cell_type": "code",
   "execution_count": 7,
   "metadata": {},
   "outputs": [
    {
     "data": {
      "text/html": [
       "<div>\n",
       "<style scoped>\n",
       "    .dataframe tbody tr th:only-of-type {\n",
       "        vertical-align: middle;\n",
       "    }\n",
       "\n",
       "    .dataframe tbody tr th {\n",
       "        vertical-align: top;\n",
       "    }\n",
       "\n",
       "    .dataframe thead th {\n",
       "        text-align: right;\n",
       "    }\n",
       "</style>\n",
       "<table border=\"1\" class=\"dataframe\">\n",
       "  <thead>\n",
       "    <tr style=\"text-align: right;\">\n",
       "      <th></th>\n",
       "      <th>order_id</th>\n",
       "      <th>amount</th>\n",
       "      <th>id</th>\n",
       "      <th>orderable_id</th>\n",
       "      <th>Column_useless</th>\n",
       "    </tr>\n",
       "  </thead>\n",
       "  <tbody>\n",
       "    <tr>\n",
       "      <th>0</th>\n",
       "      <td>105807</td>\n",
       "      <td>3</td>\n",
       "      <td>287510</td>\n",
       "      <td>118</td>\n",
       "      <td>1</td>\n",
       "    </tr>\n",
       "    <tr>\n",
       "      <th>1</th>\n",
       "      <td>123301</td>\n",
       "      <td>3</td>\n",
       "      <td>335129</td>\n",
       "      <td>118</td>\n",
       "      <td>1</td>\n",
       "    </tr>\n",
       "    <tr>\n",
       "      <th>2</th>\n",
       "      <td>15476</td>\n",
       "      <td>3</td>\n",
       "      <td>42649</td>\n",
       "      <td>118</td>\n",
       "      <td>1</td>\n",
       "    </tr>\n",
       "    <tr>\n",
       "      <th>3</th>\n",
       "      <td>48254</td>\n",
       "      <td>3</td>\n",
       "      <td>131524</td>\n",
       "      <td>118</td>\n",
       "      <td>1</td>\n",
       "    </tr>\n",
       "    <tr>\n",
       "      <th>4</th>\n",
       "      <td>85942</td>\n",
       "      <td>3</td>\n",
       "      <td>233501</td>\n",
       "      <td>118</td>\n",
       "      <td>1</td>\n",
       "    </tr>\n",
       "  </tbody>\n",
       "</table>\n",
       "</div>"
      ],
      "text/plain": [
       "   order_id  amount      id  orderable_id  Column_useless\n",
       "0    105807       3  287510           118               1\n",
       "1    123301       3  335129           118               1\n",
       "2     15476       3   42649           118               1\n",
       "3     48254       3  131524           118               1\n",
       "4     85942       3  233501           118               1"
      ]
     },
     "execution_count": 7,
     "metadata": {},
     "output_type": "execute_result"
    }
   ],
   "source": [
    "orderItem_df.head()"
   ]
  },
  {
   "cell_type": "code",
   "execution_count": 8,
   "metadata": {},
   "outputs": [
    {
     "data": {
      "text/html": [
       "<div>\n",
       "<style scoped>\n",
       "    .dataframe tbody tr th:only-of-type {\n",
       "        vertical-align: middle;\n",
       "    }\n",
       "\n",
       "    .dataframe tbody tr th {\n",
       "        vertical-align: top;\n",
       "    }\n",
       "\n",
       "    .dataframe thead th {\n",
       "        text-align: right;\n",
       "    }\n",
       "</style>\n",
       "<table border=\"1\" class=\"dataframe\">\n",
       "  <thead>\n",
       "    <tr style=\"text-align: right;\">\n",
       "      <th></th>\n",
       "      <th>price</th>\n",
       "      <th>restaurant_id</th>\n",
       "      <th>orderable_id</th>\n",
       "      <th>product_name</th>\n",
       "    </tr>\n",
       "  </thead>\n",
       "  <tbody>\n",
       "    <tr>\n",
       "      <th>0</th>\n",
       "      <td>17.122222</td>\n",
       "      <td>244</td>\n",
       "      <td>1613</td>\n",
       "      <td>Peach tart</td>\n",
       "    </tr>\n",
       "    <tr>\n",
       "      <th>1</th>\n",
       "      <td>28.224527</td>\n",
       "      <td>260</td>\n",
       "      <td>1711</td>\n",
       "      <td>Avocat aux Crevettes avocado and shrimp salad ...</td>\n",
       "    </tr>\n",
       "    <tr>\n",
       "      <th>2</th>\n",
       "      <td>27.744477</td>\n",
       "      <td>43</td>\n",
       "      <td>277</td>\n",
       "      <td>CABERNET SAUVIGNON, Rutherford, Beaulieu</td>\n",
       "    </tr>\n",
       "    <tr>\n",
       "      <th>3</th>\n",
       "      <td>8.925679</td>\n",
       "      <td>68</td>\n",
       "      <td>438</td>\n",
       "      <td>Subgum Shrimp Chow Mein</td>\n",
       "    </tr>\n",
       "    <tr>\n",
       "      <th>4</th>\n",
       "      <td>29.446886</td>\n",
       "      <td>45</td>\n",
       "      <td>283</td>\n",
       "      <td>Dom Perignon</td>\n",
       "    </tr>\n",
       "  </tbody>\n",
       "</table>\n",
       "</div>"
      ],
      "text/plain": [
       "       price  restaurant_id  orderable_id  \\\n",
       "0  17.122222            244          1613   \n",
       "1  28.224527            260          1711   \n",
       "2  27.744477             43           277   \n",
       "3   8.925679             68           438   \n",
       "4  29.446886             45           283   \n",
       "\n",
       "                                        product_name  \n",
       "0                                         Peach tart  \n",
       "1  Avocat aux Crevettes avocado and shrimp salad ...  \n",
       "2           CABERNET SAUVIGNON, Rutherford, Beaulieu  \n",
       "3                            Subgum Shrimp Chow Mein  \n",
       "4                                       Dom Perignon  "
      ]
     },
     "execution_count": 8,
     "metadata": {},
     "output_type": "execute_result"
    }
   ],
   "source": [
    "orderables_df.rename(columns={\"id\":\"orderable_id\"},inplace=True)\n",
    "orderables_df.rename(columns={\"name\":\"product_name\"},inplace=True)\n",
    "\n",
    "orderables_df.head()"
   ]
  },
  {
   "cell_type": "markdown",
   "metadata": {},
   "source": [
    "##### Manipulating DF's"
   ]
  },
  {
   "cell_type": "markdown",
   "metadata": {},
   "source": [
    "Merge restaurant and order DF's"
   ]
  },
  {
   "cell_type": "code",
   "execution_count": 9,
   "metadata": {},
   "outputs": [
    {
     "data": {
      "text/html": [
       "<div>\n",
       "<style scoped>\n",
       "    .dataframe tbody tr th:only-of-type {\n",
       "        vertical-align: middle;\n",
       "    }\n",
       "\n",
       "    .dataframe tbody tr th {\n",
       "        vertical-align: top;\n",
       "    }\n",
       "\n",
       "    .dataframe thead th {\n",
       "        text-align: right;\n",
       "    }\n",
       "</style>\n",
       "<table border=\"1\" class=\"dataframe\">\n",
       "  <thead>\n",
       "    <tr style=\"text-align: right;\">\n",
       "      <th></th>\n",
       "      <th>name</th>\n",
       "      <th>restaurant_id</th>\n",
       "      <th>city</th>\n",
       "      <th>creation_date</th>\n",
       "      <th>customer_id</th>\n",
       "      <th>id</th>\n",
       "    </tr>\n",
       "  </thead>\n",
       "  <tbody>\n",
       "    <tr>\n",
       "      <th>0</th>\n",
       "      <td>Rods 1890s Ranch House</td>\n",
       "      <td>268</td>\n",
       "      <td>San Francisco</td>\n",
       "      <td>6/18/18 17:08</td>\n",
       "      <td>14121</td>\n",
       "      <td>92396</td>\n",
       "    </tr>\n",
       "    <tr>\n",
       "      <th>1</th>\n",
       "      <td>Rods 1890s Ranch House</td>\n",
       "      <td>268</td>\n",
       "      <td>San Francisco</td>\n",
       "      <td>9/13/18 22:43</td>\n",
       "      <td>6577</td>\n",
       "      <td>116358</td>\n",
       "    </tr>\n",
       "    <tr>\n",
       "      <th>2</th>\n",
       "      <td>Rods 1890s Ranch House</td>\n",
       "      <td>268</td>\n",
       "      <td>San Francisco</td>\n",
       "      <td>12/28/17 12:20</td>\n",
       "      <td>14937</td>\n",
       "      <td>46639</td>\n",
       "    </tr>\n",
       "    <tr>\n",
       "      <th>3</th>\n",
       "      <td>Rods 1890s Ranch House</td>\n",
       "      <td>268</td>\n",
       "      <td>San Francisco</td>\n",
       "      <td>10/10/18 20:20</td>\n",
       "      <td>1565</td>\n",
       "      <td>124169</td>\n",
       "    </tr>\n",
       "    <tr>\n",
       "      <th>4</th>\n",
       "      <td>Rods 1890s Ranch House</td>\n",
       "      <td>268</td>\n",
       "      <td>San Francisco</td>\n",
       "      <td>10/27/18 21:25</td>\n",
       "      <td>9188</td>\n",
       "      <td>129373</td>\n",
       "    </tr>\n",
       "    <tr>\n",
       "      <th>5</th>\n",
       "      <td>Rods 1890s Ranch House</td>\n",
       "      <td>268</td>\n",
       "      <td>San Francisco</td>\n",
       "      <td>3/11/19 13:09</td>\n",
       "      <td>26990</td>\n",
       "      <td>171806</td>\n",
       "    </tr>\n",
       "    <tr>\n",
       "      <th>6</th>\n",
       "      <td>Rods 1890s Ranch House</td>\n",
       "      <td>268</td>\n",
       "      <td>San Francisco</td>\n",
       "      <td>1/22/19 22:39</td>\n",
       "      <td>13634</td>\n",
       "      <td>155711</td>\n",
       "    </tr>\n",
       "    <tr>\n",
       "      <th>7</th>\n",
       "      <td>Rods 1890s Ranch House</td>\n",
       "      <td>268</td>\n",
       "      <td>San Francisco</td>\n",
       "      <td>1/29/18 16:00</td>\n",
       "      <td>16880</td>\n",
       "      <td>55005</td>\n",
       "    </tr>\n",
       "    <tr>\n",
       "      <th>8</th>\n",
       "      <td>Rods 1890s Ranch House</td>\n",
       "      <td>268</td>\n",
       "      <td>San Francisco</td>\n",
       "      <td>9/24/18 14:27</td>\n",
       "      <td>17755</td>\n",
       "      <td>119275</td>\n",
       "    </tr>\n",
       "    <tr>\n",
       "      <th>9</th>\n",
       "      <td>Rods 1890s Ranch House</td>\n",
       "      <td>268</td>\n",
       "      <td>San Francisco</td>\n",
       "      <td>5/1/18 21:17</td>\n",
       "      <td>13300</td>\n",
       "      <td>79443</td>\n",
       "    </tr>\n",
       "  </tbody>\n",
       "</table>\n",
       "</div>"
      ],
      "text/plain": [
       "                     name  restaurant_id           city   creation_date  \\\n",
       "0  Rods 1890s Ranch House            268  San Francisco   6/18/18 17:08   \n",
       "1  Rods 1890s Ranch House            268  San Francisco   9/13/18 22:43   \n",
       "2  Rods 1890s Ranch House            268  San Francisco  12/28/17 12:20   \n",
       "3  Rods 1890s Ranch House            268  San Francisco  10/10/18 20:20   \n",
       "4  Rods 1890s Ranch House            268  San Francisco  10/27/18 21:25   \n",
       "5  Rods 1890s Ranch House            268  San Francisco   3/11/19 13:09   \n",
       "6  Rods 1890s Ranch House            268  San Francisco   1/22/19 22:39   \n",
       "7  Rods 1890s Ranch House            268  San Francisco   1/29/18 16:00   \n",
       "8  Rods 1890s Ranch House            268  San Francisco   9/24/18 14:27   \n",
       "9  Rods 1890s Ranch House            268  San Francisco    5/1/18 21:17   \n",
       "\n",
       "   customer_id      id  \n",
       "0        14121   92396  \n",
       "1         6577  116358  \n",
       "2        14937   46639  \n",
       "3         1565  124169  \n",
       "4         9188  129373  \n",
       "5        26990  171806  \n",
       "6        13634  155711  \n",
       "7        16880   55005  \n",
       "8        17755  119275  \n",
       "9        13300   79443  "
      ]
     },
     "execution_count": 9,
     "metadata": {},
     "output_type": "execute_result"
    }
   ],
   "source": [
    "rest_order_df = pd.merge(restaurant_df[['name','restaurant_id','city']], order_df, how=\"inner\", on=\"restaurant_id\")\n",
    "rest_order_df.head(10)"
   ]
  },
  {
   "cell_type": "markdown",
   "metadata": {},
   "source": [
    "Creating Orders's DF"
   ]
  },
  {
   "cell_type": "code",
   "execution_count": 10,
   "metadata": {},
   "outputs": [
    {
     "data": {
      "text/html": [
       "<div>\n",
       "<style scoped>\n",
       "    .dataframe tbody tr th:only-of-type {\n",
       "        vertical-align: middle;\n",
       "    }\n",
       "\n",
       "    .dataframe tbody tr th {\n",
       "        vertical-align: top;\n",
       "    }\n",
       "\n",
       "    .dataframe thead th {\n",
       "        text-align: right;\n",
       "    }\n",
       "</style>\n",
       "<table border=\"1\" class=\"dataframe\">\n",
       "  <thead>\n",
       "    <tr style=\"text-align: right;\">\n",
       "      <th></th>\n",
       "      <th>name</th>\n",
       "      <th>restaurant_id</th>\n",
       "      <th>city</th>\n",
       "      <th>creation_date</th>\n",
       "      <th>customer_id</th>\n",
       "      <th>order_id</th>\n",
       "      <th>amount</th>\n",
       "      <th>orderable_id</th>\n",
       "    </tr>\n",
       "  </thead>\n",
       "  <tbody>\n",
       "    <tr>\n",
       "      <th>0</th>\n",
       "      <td>Rods 1890s Ranch House</td>\n",
       "      <td>268</td>\n",
       "      <td>San Francisco</td>\n",
       "      <td>6/18/18 17:08</td>\n",
       "      <td>14121</td>\n",
       "      <td>92396</td>\n",
       "      <td>3</td>\n",
       "      <td>1763</td>\n",
       "    </tr>\n",
       "    <tr>\n",
       "      <th>1</th>\n",
       "      <td>Rods 1890s Ranch House</td>\n",
       "      <td>268</td>\n",
       "      <td>San Francisco</td>\n",
       "      <td>6/18/18 17:08</td>\n",
       "      <td>14121</td>\n",
       "      <td>92396</td>\n",
       "      <td>2</td>\n",
       "      <td>1764</td>\n",
       "    </tr>\n",
       "    <tr>\n",
       "      <th>2</th>\n",
       "      <td>Rods 1890s Ranch House</td>\n",
       "      <td>268</td>\n",
       "      <td>San Francisco</td>\n",
       "      <td>6/18/18 17:08</td>\n",
       "      <td>14121</td>\n",
       "      <td>92396</td>\n",
       "      <td>2</td>\n",
       "      <td>1766</td>\n",
       "    </tr>\n",
       "    <tr>\n",
       "      <th>3</th>\n",
       "      <td>Rods 1890s Ranch House</td>\n",
       "      <td>268</td>\n",
       "      <td>San Francisco</td>\n",
       "      <td>6/18/18 17:08</td>\n",
       "      <td>14121</td>\n",
       "      <td>92396</td>\n",
       "      <td>1</td>\n",
       "      <td>1765</td>\n",
       "    </tr>\n",
       "    <tr>\n",
       "      <th>4</th>\n",
       "      <td>Rods 1890s Ranch House</td>\n",
       "      <td>268</td>\n",
       "      <td>San Francisco</td>\n",
       "      <td>9/13/18 22:43</td>\n",
       "      <td>6577</td>\n",
       "      <td>116358</td>\n",
       "      <td>3</td>\n",
       "      <td>1763</td>\n",
       "    </tr>\n",
       "  </tbody>\n",
       "</table>\n",
       "</div>"
      ],
      "text/plain": [
       "                     name  restaurant_id           city  creation_date  \\\n",
       "0  Rods 1890s Ranch House            268  San Francisco  6/18/18 17:08   \n",
       "1  Rods 1890s Ranch House            268  San Francisco  6/18/18 17:08   \n",
       "2  Rods 1890s Ranch House            268  San Francisco  6/18/18 17:08   \n",
       "3  Rods 1890s Ranch House            268  San Francisco  6/18/18 17:08   \n",
       "4  Rods 1890s Ranch House            268  San Francisco  9/13/18 22:43   \n",
       "\n",
       "   customer_id  order_id  amount  orderable_id  \n",
       "0        14121     92396       3          1763  \n",
       "1        14121     92396       2          1764  \n",
       "2        14121     92396       2          1766  \n",
       "3        14121     92396       1          1765  \n",
       "4         6577    116358       3          1763  "
      ]
     },
     "execution_count": 10,
     "metadata": {},
     "output_type": "execute_result"
    }
   ],
   "source": [
    "rest_order_df.rename(columns={\"id\":\"order_id\"},inplace=True)\n",
    "restorder_item_df = pd.merge(rest_order_df, orderItem_df[['order_id', 'amount', 'orderable_id']], how='inner', on='order_id')\n",
    "restorder_item_df.head()"
   ]
  },
  {
   "cell_type": "code",
   "execution_count": 11,
   "metadata": {},
   "outputs": [
    {
     "data": {
      "text/html": [
       "<div>\n",
       "<style scoped>\n",
       "    .dataframe tbody tr th:only-of-type {\n",
       "        vertical-align: middle;\n",
       "    }\n",
       "\n",
       "    .dataframe tbody tr th {\n",
       "        vertical-align: top;\n",
       "    }\n",
       "\n",
       "    .dataframe thead th {\n",
       "        text-align: right;\n",
       "    }\n",
       "</style>\n",
       "<table border=\"1\" class=\"dataframe\">\n",
       "  <thead>\n",
       "    <tr style=\"text-align: right;\">\n",
       "      <th></th>\n",
       "      <th>name</th>\n",
       "      <th>restaurant_id</th>\n",
       "      <th>city</th>\n",
       "      <th>creation_date</th>\n",
       "      <th>customer_id</th>\n",
       "      <th>order_id</th>\n",
       "      <th>amount</th>\n",
       "      <th>orderable_id</th>\n",
       "      <th>price</th>\n",
       "      <th>product_name</th>\n",
       "    </tr>\n",
       "  </thead>\n",
       "  <tbody>\n",
       "    <tr>\n",
       "      <th>0</th>\n",
       "      <td>Rods 1890s Ranch House</td>\n",
       "      <td>268</td>\n",
       "      <td>San Francisco</td>\n",
       "      <td>6/18/18 17:08</td>\n",
       "      <td>14121</td>\n",
       "      <td>92396</td>\n",
       "      <td>3</td>\n",
       "      <td>1763</td>\n",
       "      <td>21.3</td>\n",
       "      <td>Blackberry Italian Soda</td>\n",
       "    </tr>\n",
       "    <tr>\n",
       "      <th>1</th>\n",
       "      <td>Rods 1890s Ranch House</td>\n",
       "      <td>268</td>\n",
       "      <td>San Francisco</td>\n",
       "      <td>9/13/18 22:43</td>\n",
       "      <td>6577</td>\n",
       "      <td>116358</td>\n",
       "      <td>3</td>\n",
       "      <td>1763</td>\n",
       "      <td>21.3</td>\n",
       "      <td>Blackberry Italian Soda</td>\n",
       "    </tr>\n",
       "    <tr>\n",
       "      <th>2</th>\n",
       "      <td>Rods 1890s Ranch House</td>\n",
       "      <td>268</td>\n",
       "      <td>San Francisco</td>\n",
       "      <td>10/27/18 21:25</td>\n",
       "      <td>9188</td>\n",
       "      <td>129373</td>\n",
       "      <td>3</td>\n",
       "      <td>1763</td>\n",
       "      <td>21.3</td>\n",
       "      <td>Blackberry Italian Soda</td>\n",
       "    </tr>\n",
       "    <tr>\n",
       "      <th>3</th>\n",
       "      <td>Rods 1890s Ranch House</td>\n",
       "      <td>268</td>\n",
       "      <td>San Francisco</td>\n",
       "      <td>1/22/19 22:39</td>\n",
       "      <td>13634</td>\n",
       "      <td>155711</td>\n",
       "      <td>1</td>\n",
       "      <td>1763</td>\n",
       "      <td>21.3</td>\n",
       "      <td>Blackberry Italian Soda</td>\n",
       "    </tr>\n",
       "    <tr>\n",
       "      <th>4</th>\n",
       "      <td>Rods 1890s Ranch House</td>\n",
       "      <td>268</td>\n",
       "      <td>San Francisco</td>\n",
       "      <td>1/29/18 16:00</td>\n",
       "      <td>16880</td>\n",
       "      <td>55005</td>\n",
       "      <td>1</td>\n",
       "      <td>1763</td>\n",
       "      <td>21.3</td>\n",
       "      <td>Blackberry Italian Soda</td>\n",
       "    </tr>\n",
       "    <tr>\n",
       "      <th>5</th>\n",
       "      <td>Rods 1890s Ranch House</td>\n",
       "      <td>268</td>\n",
       "      <td>San Francisco</td>\n",
       "      <td>5/1/18 21:17</td>\n",
       "      <td>13300</td>\n",
       "      <td>79443</td>\n",
       "      <td>1</td>\n",
       "      <td>1763</td>\n",
       "      <td>21.3</td>\n",
       "      <td>Blackberry Italian Soda</td>\n",
       "    </tr>\n",
       "    <tr>\n",
       "      <th>6</th>\n",
       "      <td>Rods 1890s Ranch House</td>\n",
       "      <td>268</td>\n",
       "      <td>San Francisco</td>\n",
       "      <td>10/26/17 21:10</td>\n",
       "      <td>5052</td>\n",
       "      <td>30956</td>\n",
       "      <td>1</td>\n",
       "      <td>1763</td>\n",
       "      <td>21.3</td>\n",
       "      <td>Blackberry Italian Soda</td>\n",
       "    </tr>\n",
       "    <tr>\n",
       "      <th>7</th>\n",
       "      <td>Rods 1890s Ranch House</td>\n",
       "      <td>268</td>\n",
       "      <td>San Francisco</td>\n",
       "      <td>5/23/18 13:00</td>\n",
       "      <td>9271</td>\n",
       "      <td>85244</td>\n",
       "      <td>3</td>\n",
       "      <td>1763</td>\n",
       "      <td>21.3</td>\n",
       "      <td>Blackberry Italian Soda</td>\n",
       "    </tr>\n",
       "    <tr>\n",
       "      <th>8</th>\n",
       "      <td>Rods 1890s Ranch House</td>\n",
       "      <td>268</td>\n",
       "      <td>San Francisco</td>\n",
       "      <td>6/23/18 13:17</td>\n",
       "      <td>3285</td>\n",
       "      <td>93696</td>\n",
       "      <td>3</td>\n",
       "      <td>1763</td>\n",
       "      <td>21.3</td>\n",
       "      <td>Blackberry Italian Soda</td>\n",
       "    </tr>\n",
       "    <tr>\n",
       "      <th>9</th>\n",
       "      <td>Rods 1890s Ranch House</td>\n",
       "      <td>268</td>\n",
       "      <td>San Francisco</td>\n",
       "      <td>2/28/18 14:24</td>\n",
       "      <td>14209</td>\n",
       "      <td>62905</td>\n",
       "      <td>1</td>\n",
       "      <td>1763</td>\n",
       "      <td>21.3</td>\n",
       "      <td>Blackberry Italian Soda</td>\n",
       "    </tr>\n",
       "    <tr>\n",
       "      <th>10</th>\n",
       "      <td>Rods 1890s Ranch House</td>\n",
       "      <td>268</td>\n",
       "      <td>San Francisco</td>\n",
       "      <td>3/18/19 21:14</td>\n",
       "      <td>22891</td>\n",
       "      <td>174339</td>\n",
       "      <td>2</td>\n",
       "      <td>1763</td>\n",
       "      <td>21.3</td>\n",
       "      <td>Blackberry Italian Soda</td>\n",
       "    </tr>\n",
       "    <tr>\n",
       "      <th>11</th>\n",
       "      <td>Rods 1890s Ranch House</td>\n",
       "      <td>268</td>\n",
       "      <td>San Francisco</td>\n",
       "      <td>3/31/19 13:48</td>\n",
       "      <td>779</td>\n",
       "      <td>178509</td>\n",
       "      <td>2</td>\n",
       "      <td>1763</td>\n",
       "      <td>21.3</td>\n",
       "      <td>Blackberry Italian Soda</td>\n",
       "    </tr>\n",
       "    <tr>\n",
       "      <th>12</th>\n",
       "      <td>Rods 1890s Ranch House</td>\n",
       "      <td>268</td>\n",
       "      <td>San Francisco</td>\n",
       "      <td>6/2/18 20:09</td>\n",
       "      <td>4650</td>\n",
       "      <td>88084</td>\n",
       "      <td>2</td>\n",
       "      <td>1763</td>\n",
       "      <td>21.3</td>\n",
       "      <td>Blackberry Italian Soda</td>\n",
       "    </tr>\n",
       "    <tr>\n",
       "      <th>13</th>\n",
       "      <td>Rods 1890s Ranch House</td>\n",
       "      <td>268</td>\n",
       "      <td>San Francisco</td>\n",
       "      <td>4/3/18 22:27</td>\n",
       "      <td>13295</td>\n",
       "      <td>71873</td>\n",
       "      <td>2</td>\n",
       "      <td>1763</td>\n",
       "      <td>21.3</td>\n",
       "      <td>Blackberry Italian Soda</td>\n",
       "    </tr>\n",
       "    <tr>\n",
       "      <th>14</th>\n",
       "      <td>Rods 1890s Ranch House</td>\n",
       "      <td>268</td>\n",
       "      <td>San Francisco</td>\n",
       "      <td>11/6/17 21:15</td>\n",
       "      <td>8095</td>\n",
       "      <td>33778</td>\n",
       "      <td>2</td>\n",
       "      <td>1763</td>\n",
       "      <td>21.3</td>\n",
       "      <td>Blackberry Italian Soda</td>\n",
       "    </tr>\n",
       "    <tr>\n",
       "      <th>15</th>\n",
       "      <td>Rods 1890s Ranch House</td>\n",
       "      <td>268</td>\n",
       "      <td>San Francisco</td>\n",
       "      <td>3/7/18 20:08</td>\n",
       "      <td>11064</td>\n",
       "      <td>64811</td>\n",
       "      <td>2</td>\n",
       "      <td>1763</td>\n",
       "      <td>21.3</td>\n",
       "      <td>Blackberry Italian Soda</td>\n",
       "    </tr>\n",
       "    <tr>\n",
       "      <th>16</th>\n",
       "      <td>Rods 1890s Ranch House</td>\n",
       "      <td>268</td>\n",
       "      <td>San Francisco</td>\n",
       "      <td>3/31/18 13:36</td>\n",
       "      <td>6768</td>\n",
       "      <td>70940</td>\n",
       "      <td>1</td>\n",
       "      <td>1763</td>\n",
       "      <td>21.3</td>\n",
       "      <td>Blackberry Italian Soda</td>\n",
       "    </tr>\n",
       "    <tr>\n",
       "      <th>17</th>\n",
       "      <td>Rods 1890s Ranch House</td>\n",
       "      <td>268</td>\n",
       "      <td>San Francisco</td>\n",
       "      <td>10/19/18 20:52</td>\n",
       "      <td>5687</td>\n",
       "      <td>126859</td>\n",
       "      <td>3</td>\n",
       "      <td>1763</td>\n",
       "      <td>21.3</td>\n",
       "      <td>Blackberry Italian Soda</td>\n",
       "    </tr>\n",
       "    <tr>\n",
       "      <th>18</th>\n",
       "      <td>Rods 1890s Ranch House</td>\n",
       "      <td>268</td>\n",
       "      <td>San Francisco</td>\n",
       "      <td>6/9/18 21:14</td>\n",
       "      <td>9112</td>\n",
       "      <td>90049</td>\n",
       "      <td>2</td>\n",
       "      <td>1763</td>\n",
       "      <td>21.3</td>\n",
       "      <td>Blackberry Italian Soda</td>\n",
       "    </tr>\n",
       "    <tr>\n",
       "      <th>19</th>\n",
       "      <td>Rods 1890s Ranch House</td>\n",
       "      <td>268</td>\n",
       "      <td>San Francisco</td>\n",
       "      <td>11/19/17 14:01</td>\n",
       "      <td>8846</td>\n",
       "      <td>36880</td>\n",
       "      <td>3</td>\n",
       "      <td>1763</td>\n",
       "      <td>21.3</td>\n",
       "      <td>Blackberry Italian Soda</td>\n",
       "    </tr>\n",
       "    <tr>\n",
       "      <th>20</th>\n",
       "      <td>Rods 1890s Ranch House</td>\n",
       "      <td>268</td>\n",
       "      <td>San Francisco</td>\n",
       "      <td>2/11/18 12:32</td>\n",
       "      <td>14864</td>\n",
       "      <td>58401</td>\n",
       "      <td>3</td>\n",
       "      <td>1763</td>\n",
       "      <td>21.3</td>\n",
       "      <td>Blackberry Italian Soda</td>\n",
       "    </tr>\n",
       "    <tr>\n",
       "      <th>21</th>\n",
       "      <td>Rods 1890s Ranch House</td>\n",
       "      <td>268</td>\n",
       "      <td>San Francisco</td>\n",
       "      <td>3/3/19 18:15</td>\n",
       "      <td>1472</td>\n",
       "      <td>169209</td>\n",
       "      <td>1</td>\n",
       "      <td>1763</td>\n",
       "      <td>21.3</td>\n",
       "      <td>Blackberry Italian Soda</td>\n",
       "    </tr>\n",
       "    <tr>\n",
       "      <th>22</th>\n",
       "      <td>Rods 1890s Ranch House</td>\n",
       "      <td>268</td>\n",
       "      <td>San Francisco</td>\n",
       "      <td>2/16/19 19:53</td>\n",
       "      <td>10811</td>\n",
       "      <td>164228</td>\n",
       "      <td>1</td>\n",
       "      <td>1763</td>\n",
       "      <td>21.3</td>\n",
       "      <td>Blackberry Italian Soda</td>\n",
       "    </tr>\n",
       "    <tr>\n",
       "      <th>23</th>\n",
       "      <td>Rods 1890s Ranch House</td>\n",
       "      <td>268</td>\n",
       "      <td>San Francisco</td>\n",
       "      <td>6/27/18 13:52</td>\n",
       "      <td>2716</td>\n",
       "      <td>94769</td>\n",
       "      <td>3</td>\n",
       "      <td>1763</td>\n",
       "      <td>21.3</td>\n",
       "      <td>Blackberry Italian Soda</td>\n",
       "    </tr>\n",
       "    <tr>\n",
       "      <th>24</th>\n",
       "      <td>Rods 1890s Ranch House</td>\n",
       "      <td>268</td>\n",
       "      <td>San Francisco</td>\n",
       "      <td>5/23/18 22:59</td>\n",
       "      <td>5371</td>\n",
       "      <td>85438</td>\n",
       "      <td>3</td>\n",
       "      <td>1763</td>\n",
       "      <td>21.3</td>\n",
       "      <td>Blackberry Italian Soda</td>\n",
       "    </tr>\n",
       "  </tbody>\n",
       "</table>\n",
       "</div>"
      ],
      "text/plain": [
       "                      name  restaurant_id           city   creation_date  \\\n",
       "0   Rods 1890s Ranch House            268  San Francisco   6/18/18 17:08   \n",
       "1   Rods 1890s Ranch House            268  San Francisco   9/13/18 22:43   \n",
       "2   Rods 1890s Ranch House            268  San Francisco  10/27/18 21:25   \n",
       "3   Rods 1890s Ranch House            268  San Francisco   1/22/19 22:39   \n",
       "4   Rods 1890s Ranch House            268  San Francisco   1/29/18 16:00   \n",
       "5   Rods 1890s Ranch House            268  San Francisco    5/1/18 21:17   \n",
       "6   Rods 1890s Ranch House            268  San Francisco  10/26/17 21:10   \n",
       "7   Rods 1890s Ranch House            268  San Francisco   5/23/18 13:00   \n",
       "8   Rods 1890s Ranch House            268  San Francisco   6/23/18 13:17   \n",
       "9   Rods 1890s Ranch House            268  San Francisco   2/28/18 14:24   \n",
       "10  Rods 1890s Ranch House            268  San Francisco   3/18/19 21:14   \n",
       "11  Rods 1890s Ranch House            268  San Francisco   3/31/19 13:48   \n",
       "12  Rods 1890s Ranch House            268  San Francisco    6/2/18 20:09   \n",
       "13  Rods 1890s Ranch House            268  San Francisco    4/3/18 22:27   \n",
       "14  Rods 1890s Ranch House            268  San Francisco   11/6/17 21:15   \n",
       "15  Rods 1890s Ranch House            268  San Francisco    3/7/18 20:08   \n",
       "16  Rods 1890s Ranch House            268  San Francisco   3/31/18 13:36   \n",
       "17  Rods 1890s Ranch House            268  San Francisco  10/19/18 20:52   \n",
       "18  Rods 1890s Ranch House            268  San Francisco    6/9/18 21:14   \n",
       "19  Rods 1890s Ranch House            268  San Francisco  11/19/17 14:01   \n",
       "20  Rods 1890s Ranch House            268  San Francisco   2/11/18 12:32   \n",
       "21  Rods 1890s Ranch House            268  San Francisco    3/3/19 18:15   \n",
       "22  Rods 1890s Ranch House            268  San Francisco   2/16/19 19:53   \n",
       "23  Rods 1890s Ranch House            268  San Francisco   6/27/18 13:52   \n",
       "24  Rods 1890s Ranch House            268  San Francisco   5/23/18 22:59   \n",
       "\n",
       "    customer_id  order_id  amount  orderable_id  price  \\\n",
       "0         14121     92396       3          1763   21.3   \n",
       "1          6577    116358       3          1763   21.3   \n",
       "2          9188    129373       3          1763   21.3   \n",
       "3         13634    155711       1          1763   21.3   \n",
       "4         16880     55005       1          1763   21.3   \n",
       "5         13300     79443       1          1763   21.3   \n",
       "6          5052     30956       1          1763   21.3   \n",
       "7          9271     85244       3          1763   21.3   \n",
       "8          3285     93696       3          1763   21.3   \n",
       "9         14209     62905       1          1763   21.3   \n",
       "10        22891    174339       2          1763   21.3   \n",
       "11          779    178509       2          1763   21.3   \n",
       "12         4650     88084       2          1763   21.3   \n",
       "13        13295     71873       2          1763   21.3   \n",
       "14         8095     33778       2          1763   21.3   \n",
       "15        11064     64811       2          1763   21.3   \n",
       "16         6768     70940       1          1763   21.3   \n",
       "17         5687    126859       3          1763   21.3   \n",
       "18         9112     90049       2          1763   21.3   \n",
       "19         8846     36880       3          1763   21.3   \n",
       "20        14864     58401       3          1763   21.3   \n",
       "21         1472    169209       1          1763   21.3   \n",
       "22        10811    164228       1          1763   21.3   \n",
       "23         2716     94769       3          1763   21.3   \n",
       "24         5371     85438       3          1763   21.3   \n",
       "\n",
       "               product_name  \n",
       "0   Blackberry Italian Soda  \n",
       "1   Blackberry Italian Soda  \n",
       "2   Blackberry Italian Soda  \n",
       "3   Blackberry Italian Soda  \n",
       "4   Blackberry Italian Soda  \n",
       "5   Blackberry Italian Soda  \n",
       "6   Blackberry Italian Soda  \n",
       "7   Blackberry Italian Soda  \n",
       "8   Blackberry Italian Soda  \n",
       "9   Blackberry Italian Soda  \n",
       "10  Blackberry Italian Soda  \n",
       "11  Blackberry Italian Soda  \n",
       "12  Blackberry Italian Soda  \n",
       "13  Blackberry Italian Soda  \n",
       "14  Blackberry Italian Soda  \n",
       "15  Blackberry Italian Soda  \n",
       "16  Blackberry Italian Soda  \n",
       "17  Blackberry Italian Soda  \n",
       "18  Blackberry Italian Soda  \n",
       "19  Blackberry Italian Soda  \n",
       "20  Blackberry Italian Soda  \n",
       "21  Blackberry Italian Soda  \n",
       "22  Blackberry Italian Soda  \n",
       "23  Blackberry Italian Soda  \n",
       "24  Blackberry Italian Soda  "
      ]
     },
     "execution_count": 11,
     "metadata": {},
     "output_type": "execute_result"
    }
   ],
   "source": [
    "restorderitem_orderable_df = pd.merge(restorder_item_df,orderables_df[['price','orderable_id','product_name',]], how='inner', on='orderable_id')\n",
    "restorderitem_orderable_df.head(25)"
   ]
  },
  {
   "cell_type": "code",
   "execution_count": 91,
   "metadata": {},
   "outputs": [
    {
     "name": "stdout",
     "output_type": "stream",
     "text": [
      "<class 'pandas.core.frame.DataFrame'>\n",
      "Int64Index: 486031 entries, 0 to 486030\n",
      "Data columns (total 10 columns):\n",
      " #   Column         Non-Null Count   Dtype  \n",
      "---  ------         --------------   -----  \n",
      " 0   name           486031 non-null  object \n",
      " 1   restaurant_id  486031 non-null  int64  \n",
      " 2   city           338259 non-null  object \n",
      " 3   creation_date  486031 non-null  object \n",
      " 4   customer_id    486031 non-null  int64  \n",
      " 5   order_id       486031 non-null  int64  \n",
      " 6   amount         486031 non-null  int64  \n",
      " 7   orderable_id   486031 non-null  int64  \n",
      " 8   price          486031 non-null  float64\n",
      " 9   product_name   486031 non-null  object \n",
      "dtypes: float64(1), int64(5), object(4)\n",
      "memory usage: 40.8+ MB\n"
     ]
    }
   ],
   "source": [
    "restorderitem_orderable_df.info()"
   ]
  },
  {
   "cell_type": "code",
   "execution_count": 12,
   "metadata": {},
   "outputs": [
    {
     "data": {
      "text/html": [
       "<div>\n",
       "<style scoped>\n",
       "    .dataframe tbody tr th:only-of-type {\n",
       "        vertical-align: middle;\n",
       "    }\n",
       "\n",
       "    .dataframe tbody tr th {\n",
       "        vertical-align: top;\n",
       "    }\n",
       "\n",
       "    .dataframe thead th {\n",
       "        text-align: right;\n",
       "    }\n",
       "</style>\n",
       "<table border=\"1\" class=\"dataframe\">\n",
       "  <thead>\n",
       "    <tr style=\"text-align: right;\">\n",
       "      <th></th>\n",
       "      <th>name</th>\n",
       "      <th>city</th>\n",
       "      <th>customer_id</th>\n",
       "      <th>order_id</th>\n",
       "      <th>amount</th>\n",
       "      <th>price</th>\n",
       "      <th>product_name</th>\n",
       "      <th>order_date</th>\n",
       "      <th>order_time</th>\n",
       "    </tr>\n",
       "  </thead>\n",
       "  <tbody>\n",
       "    <tr>\n",
       "      <th>0</th>\n",
       "      <td>Rods 1890s Ranch House</td>\n",
       "      <td>San Francisco</td>\n",
       "      <td>14121</td>\n",
       "      <td>92396</td>\n",
       "      <td>3</td>\n",
       "      <td>21.3</td>\n",
       "      <td>Blackberry Italian Soda</td>\n",
       "      <td>6/18/18</td>\n",
       "      <td>17:08</td>\n",
       "    </tr>\n",
       "    <tr>\n",
       "      <th>1</th>\n",
       "      <td>Rods 1890s Ranch House</td>\n",
       "      <td>San Francisco</td>\n",
       "      <td>6577</td>\n",
       "      <td>116358</td>\n",
       "      <td>3</td>\n",
       "      <td>21.3</td>\n",
       "      <td>Blackberry Italian Soda</td>\n",
       "      <td>9/13/18</td>\n",
       "      <td>22:43</td>\n",
       "    </tr>\n",
       "    <tr>\n",
       "      <th>2</th>\n",
       "      <td>Rods 1890s Ranch House</td>\n",
       "      <td>San Francisco</td>\n",
       "      <td>9188</td>\n",
       "      <td>129373</td>\n",
       "      <td>3</td>\n",
       "      <td>21.3</td>\n",
       "      <td>Blackberry Italian Soda</td>\n",
       "      <td>10/27/18</td>\n",
       "      <td>21:25</td>\n",
       "    </tr>\n",
       "    <tr>\n",
       "      <th>3</th>\n",
       "      <td>Rods 1890s Ranch House</td>\n",
       "      <td>San Francisco</td>\n",
       "      <td>13634</td>\n",
       "      <td>155711</td>\n",
       "      <td>1</td>\n",
       "      <td>21.3</td>\n",
       "      <td>Blackberry Italian Soda</td>\n",
       "      <td>1/22/19</td>\n",
       "      <td>22:39</td>\n",
       "    </tr>\n",
       "    <tr>\n",
       "      <th>4</th>\n",
       "      <td>Rods 1890s Ranch House</td>\n",
       "      <td>San Francisco</td>\n",
       "      <td>16880</td>\n",
       "      <td>55005</td>\n",
       "      <td>1</td>\n",
       "      <td>21.3</td>\n",
       "      <td>Blackberry Italian Soda</td>\n",
       "      <td>1/29/18</td>\n",
       "      <td>16:00</td>\n",
       "    </tr>\n",
       "    <tr>\n",
       "      <th>5</th>\n",
       "      <td>Rods 1890s Ranch House</td>\n",
       "      <td>San Francisco</td>\n",
       "      <td>13300</td>\n",
       "      <td>79443</td>\n",
       "      <td>1</td>\n",
       "      <td>21.3</td>\n",
       "      <td>Blackberry Italian Soda</td>\n",
       "      <td>5/1/18</td>\n",
       "      <td>21:17</td>\n",
       "    </tr>\n",
       "    <tr>\n",
       "      <th>6</th>\n",
       "      <td>Rods 1890s Ranch House</td>\n",
       "      <td>San Francisco</td>\n",
       "      <td>5052</td>\n",
       "      <td>30956</td>\n",
       "      <td>1</td>\n",
       "      <td>21.3</td>\n",
       "      <td>Blackberry Italian Soda</td>\n",
       "      <td>10/26/17</td>\n",
       "      <td>21:10</td>\n",
       "    </tr>\n",
       "    <tr>\n",
       "      <th>7</th>\n",
       "      <td>Rods 1890s Ranch House</td>\n",
       "      <td>San Francisco</td>\n",
       "      <td>9271</td>\n",
       "      <td>85244</td>\n",
       "      <td>3</td>\n",
       "      <td>21.3</td>\n",
       "      <td>Blackberry Italian Soda</td>\n",
       "      <td>5/23/18</td>\n",
       "      <td>13:00</td>\n",
       "    </tr>\n",
       "    <tr>\n",
       "      <th>8</th>\n",
       "      <td>Rods 1890s Ranch House</td>\n",
       "      <td>San Francisco</td>\n",
       "      <td>3285</td>\n",
       "      <td>93696</td>\n",
       "      <td>3</td>\n",
       "      <td>21.3</td>\n",
       "      <td>Blackberry Italian Soda</td>\n",
       "      <td>6/23/18</td>\n",
       "      <td>13:17</td>\n",
       "    </tr>\n",
       "    <tr>\n",
       "      <th>9</th>\n",
       "      <td>Rods 1890s Ranch House</td>\n",
       "      <td>San Francisco</td>\n",
       "      <td>14209</td>\n",
       "      <td>62905</td>\n",
       "      <td>1</td>\n",
       "      <td>21.3</td>\n",
       "      <td>Blackberry Italian Soda</td>\n",
       "      <td>2/28/18</td>\n",
       "      <td>14:24</td>\n",
       "    </tr>\n",
       "    <tr>\n",
       "      <th>10</th>\n",
       "      <td>Rods 1890s Ranch House</td>\n",
       "      <td>San Francisco</td>\n",
       "      <td>22891</td>\n",
       "      <td>174339</td>\n",
       "      <td>2</td>\n",
       "      <td>21.3</td>\n",
       "      <td>Blackberry Italian Soda</td>\n",
       "      <td>3/18/19</td>\n",
       "      <td>21:14</td>\n",
       "    </tr>\n",
       "    <tr>\n",
       "      <th>11</th>\n",
       "      <td>Rods 1890s Ranch House</td>\n",
       "      <td>San Francisco</td>\n",
       "      <td>779</td>\n",
       "      <td>178509</td>\n",
       "      <td>2</td>\n",
       "      <td>21.3</td>\n",
       "      <td>Blackberry Italian Soda</td>\n",
       "      <td>3/31/19</td>\n",
       "      <td>13:48</td>\n",
       "    </tr>\n",
       "    <tr>\n",
       "      <th>12</th>\n",
       "      <td>Rods 1890s Ranch House</td>\n",
       "      <td>San Francisco</td>\n",
       "      <td>4650</td>\n",
       "      <td>88084</td>\n",
       "      <td>2</td>\n",
       "      <td>21.3</td>\n",
       "      <td>Blackberry Italian Soda</td>\n",
       "      <td>6/2/18</td>\n",
       "      <td>20:09</td>\n",
       "    </tr>\n",
       "    <tr>\n",
       "      <th>13</th>\n",
       "      <td>Rods 1890s Ranch House</td>\n",
       "      <td>San Francisco</td>\n",
       "      <td>13295</td>\n",
       "      <td>71873</td>\n",
       "      <td>2</td>\n",
       "      <td>21.3</td>\n",
       "      <td>Blackberry Italian Soda</td>\n",
       "      <td>4/3/18</td>\n",
       "      <td>22:27</td>\n",
       "    </tr>\n",
       "    <tr>\n",
       "      <th>14</th>\n",
       "      <td>Rods 1890s Ranch House</td>\n",
       "      <td>San Francisco</td>\n",
       "      <td>8095</td>\n",
       "      <td>33778</td>\n",
       "      <td>2</td>\n",
       "      <td>21.3</td>\n",
       "      <td>Blackberry Italian Soda</td>\n",
       "      <td>11/6/17</td>\n",
       "      <td>21:15</td>\n",
       "    </tr>\n",
       "    <tr>\n",
       "      <th>15</th>\n",
       "      <td>Rods 1890s Ranch House</td>\n",
       "      <td>San Francisco</td>\n",
       "      <td>11064</td>\n",
       "      <td>64811</td>\n",
       "      <td>2</td>\n",
       "      <td>21.3</td>\n",
       "      <td>Blackberry Italian Soda</td>\n",
       "      <td>3/7/18</td>\n",
       "      <td>20:08</td>\n",
       "    </tr>\n",
       "    <tr>\n",
       "      <th>16</th>\n",
       "      <td>Rods 1890s Ranch House</td>\n",
       "      <td>San Francisco</td>\n",
       "      <td>6768</td>\n",
       "      <td>70940</td>\n",
       "      <td>1</td>\n",
       "      <td>21.3</td>\n",
       "      <td>Blackberry Italian Soda</td>\n",
       "      <td>3/31/18</td>\n",
       "      <td>13:36</td>\n",
       "    </tr>\n",
       "    <tr>\n",
       "      <th>17</th>\n",
       "      <td>Rods 1890s Ranch House</td>\n",
       "      <td>San Francisco</td>\n",
       "      <td>5687</td>\n",
       "      <td>126859</td>\n",
       "      <td>3</td>\n",
       "      <td>21.3</td>\n",
       "      <td>Blackberry Italian Soda</td>\n",
       "      <td>10/19/18</td>\n",
       "      <td>20:52</td>\n",
       "    </tr>\n",
       "    <tr>\n",
       "      <th>18</th>\n",
       "      <td>Rods 1890s Ranch House</td>\n",
       "      <td>San Francisco</td>\n",
       "      <td>9112</td>\n",
       "      <td>90049</td>\n",
       "      <td>2</td>\n",
       "      <td>21.3</td>\n",
       "      <td>Blackberry Italian Soda</td>\n",
       "      <td>6/9/18</td>\n",
       "      <td>21:14</td>\n",
       "    </tr>\n",
       "    <tr>\n",
       "      <th>19</th>\n",
       "      <td>Rods 1890s Ranch House</td>\n",
       "      <td>San Francisco</td>\n",
       "      <td>8846</td>\n",
       "      <td>36880</td>\n",
       "      <td>3</td>\n",
       "      <td>21.3</td>\n",
       "      <td>Blackberry Italian Soda</td>\n",
       "      <td>11/19/17</td>\n",
       "      <td>14:01</td>\n",
       "    </tr>\n",
       "    <tr>\n",
       "      <th>20</th>\n",
       "      <td>Rods 1890s Ranch House</td>\n",
       "      <td>San Francisco</td>\n",
       "      <td>14864</td>\n",
       "      <td>58401</td>\n",
       "      <td>3</td>\n",
       "      <td>21.3</td>\n",
       "      <td>Blackberry Italian Soda</td>\n",
       "      <td>2/11/18</td>\n",
       "      <td>12:32</td>\n",
       "    </tr>\n",
       "    <tr>\n",
       "      <th>21</th>\n",
       "      <td>Rods 1890s Ranch House</td>\n",
       "      <td>San Francisco</td>\n",
       "      <td>1472</td>\n",
       "      <td>169209</td>\n",
       "      <td>1</td>\n",
       "      <td>21.3</td>\n",
       "      <td>Blackberry Italian Soda</td>\n",
       "      <td>3/3/19</td>\n",
       "      <td>18:15</td>\n",
       "    </tr>\n",
       "    <tr>\n",
       "      <th>22</th>\n",
       "      <td>Rods 1890s Ranch House</td>\n",
       "      <td>San Francisco</td>\n",
       "      <td>10811</td>\n",
       "      <td>164228</td>\n",
       "      <td>1</td>\n",
       "      <td>21.3</td>\n",
       "      <td>Blackberry Italian Soda</td>\n",
       "      <td>2/16/19</td>\n",
       "      <td>19:53</td>\n",
       "    </tr>\n",
       "    <tr>\n",
       "      <th>23</th>\n",
       "      <td>Rods 1890s Ranch House</td>\n",
       "      <td>San Francisco</td>\n",
       "      <td>2716</td>\n",
       "      <td>94769</td>\n",
       "      <td>3</td>\n",
       "      <td>21.3</td>\n",
       "      <td>Blackberry Italian Soda</td>\n",
       "      <td>6/27/18</td>\n",
       "      <td>13:52</td>\n",
       "    </tr>\n",
       "    <tr>\n",
       "      <th>24</th>\n",
       "      <td>Rods 1890s Ranch House</td>\n",
       "      <td>San Francisco</td>\n",
       "      <td>5371</td>\n",
       "      <td>85438</td>\n",
       "      <td>3</td>\n",
       "      <td>21.3</td>\n",
       "      <td>Blackberry Italian Soda</td>\n",
       "      <td>5/23/18</td>\n",
       "      <td>22:59</td>\n",
       "    </tr>\n",
       "  </tbody>\n",
       "</table>\n",
       "</div>"
      ],
      "text/plain": [
       "                      name           city  customer_id  order_id  amount  \\\n",
       "0   Rods 1890s Ranch House  San Francisco        14121     92396       3   \n",
       "1   Rods 1890s Ranch House  San Francisco         6577    116358       3   \n",
       "2   Rods 1890s Ranch House  San Francisco         9188    129373       3   \n",
       "3   Rods 1890s Ranch House  San Francisco        13634    155711       1   \n",
       "4   Rods 1890s Ranch House  San Francisco        16880     55005       1   \n",
       "5   Rods 1890s Ranch House  San Francisco        13300     79443       1   \n",
       "6   Rods 1890s Ranch House  San Francisco         5052     30956       1   \n",
       "7   Rods 1890s Ranch House  San Francisco         9271     85244       3   \n",
       "8   Rods 1890s Ranch House  San Francisco         3285     93696       3   \n",
       "9   Rods 1890s Ranch House  San Francisco        14209     62905       1   \n",
       "10  Rods 1890s Ranch House  San Francisco        22891    174339       2   \n",
       "11  Rods 1890s Ranch House  San Francisco          779    178509       2   \n",
       "12  Rods 1890s Ranch House  San Francisco         4650     88084       2   \n",
       "13  Rods 1890s Ranch House  San Francisco        13295     71873       2   \n",
       "14  Rods 1890s Ranch House  San Francisco         8095     33778       2   \n",
       "15  Rods 1890s Ranch House  San Francisco        11064     64811       2   \n",
       "16  Rods 1890s Ranch House  San Francisco         6768     70940       1   \n",
       "17  Rods 1890s Ranch House  San Francisco         5687    126859       3   \n",
       "18  Rods 1890s Ranch House  San Francisco         9112     90049       2   \n",
       "19  Rods 1890s Ranch House  San Francisco         8846     36880       3   \n",
       "20  Rods 1890s Ranch House  San Francisco        14864     58401       3   \n",
       "21  Rods 1890s Ranch House  San Francisco         1472    169209       1   \n",
       "22  Rods 1890s Ranch House  San Francisco        10811    164228       1   \n",
       "23  Rods 1890s Ranch House  San Francisco         2716     94769       3   \n",
       "24  Rods 1890s Ranch House  San Francisco         5371     85438       3   \n",
       "\n",
       "    price             product_name order_date order_time  \n",
       "0    21.3  Blackberry Italian Soda    6/18/18      17:08  \n",
       "1    21.3  Blackberry Italian Soda    9/13/18      22:43  \n",
       "2    21.3  Blackberry Italian Soda   10/27/18      21:25  \n",
       "3    21.3  Blackberry Italian Soda    1/22/19      22:39  \n",
       "4    21.3  Blackberry Italian Soda    1/29/18      16:00  \n",
       "5    21.3  Blackberry Italian Soda     5/1/18      21:17  \n",
       "6    21.3  Blackberry Italian Soda   10/26/17      21:10  \n",
       "7    21.3  Blackberry Italian Soda    5/23/18      13:00  \n",
       "8    21.3  Blackberry Italian Soda    6/23/18      13:17  \n",
       "9    21.3  Blackberry Italian Soda    2/28/18      14:24  \n",
       "10   21.3  Blackberry Italian Soda    3/18/19      21:14  \n",
       "11   21.3  Blackberry Italian Soda    3/31/19      13:48  \n",
       "12   21.3  Blackberry Italian Soda     6/2/18      20:09  \n",
       "13   21.3  Blackberry Italian Soda     4/3/18      22:27  \n",
       "14   21.3  Blackberry Italian Soda    11/6/17      21:15  \n",
       "15   21.3  Blackberry Italian Soda     3/7/18      20:08  \n",
       "16   21.3  Blackberry Italian Soda    3/31/18      13:36  \n",
       "17   21.3  Blackberry Italian Soda   10/19/18      20:52  \n",
       "18   21.3  Blackberry Italian Soda     6/9/18      21:14  \n",
       "19   21.3  Blackberry Italian Soda   11/19/17      14:01  \n",
       "20   21.3  Blackberry Italian Soda    2/11/18      12:32  \n",
       "21   21.3  Blackberry Italian Soda     3/3/19      18:15  \n",
       "22   21.3  Blackberry Italian Soda    2/16/19      19:53  \n",
       "23   21.3  Blackberry Italian Soda    6/27/18      13:52  \n",
       "24   21.3  Blackberry Italian Soda    5/23/18      22:59  "
      ]
     },
     "execution_count": 12,
     "metadata": {},
     "output_type": "execute_result"
    }
   ],
   "source": [
    "data_columns = restorderitem_orderable_df['creation_date'].str.split(\" \", n = 1, expand=True)\n",
    "restorderitem_orderable_df['order_date'] = data_columns[0]\n",
    "restorderitem_orderable_df['order_time'] = data_columns[1]\n",
    "\n",
    "final_df = restorderitem_orderable_df.drop(columns=['creation_date','restaurant_id','orderable_id'])\n",
    "\n",
    "final_df.head(25)\n",
    "\n"
   ]
  },
  {
   "cell_type": "code",
   "execution_count": 93,
   "metadata": {},
   "outputs": [
    {
     "data": {
      "text/html": [
       "<div>\n",
       "<style scoped>\n",
       "    .dataframe tbody tr th:only-of-type {\n",
       "        vertical-align: middle;\n",
       "    }\n",
       "\n",
       "    .dataframe tbody tr th {\n",
       "        vertical-align: top;\n",
       "    }\n",
       "\n",
       "    .dataframe thead th {\n",
       "        text-align: right;\n",
       "    }\n",
       "</style>\n",
       "<table border=\"1\" class=\"dataframe\">\n",
       "  <thead>\n",
       "    <tr style=\"text-align: right;\">\n",
       "      <th></th>\n",
       "      <th>name</th>\n",
       "      <th>city</th>\n",
       "      <th>order_id</th>\n",
       "      <th>amount</th>\n",
       "      <th>price</th>\n",
       "      <th>product_name</th>\n",
       "      <th>order_date</th>\n",
       "      <th>order_time</th>\n",
       "    </tr>\n",
       "  </thead>\n",
       "  <tbody>\n",
       "    <tr>\n",
       "      <th>435535</th>\n",
       "      <td>Chews Cafe</td>\n",
       "      <td>New York</td>\n",
       "      <td>163566</td>\n",
       "      <td>3</td>\n",
       "      <td>37.9</td>\n",
       "      <td>Calamari. Regular or Spicy</td>\n",
       "      <td>2/15/19</td>\n",
       "      <td>8:01</td>\n",
       "    </tr>\n",
       "    <tr>\n",
       "      <th>435655</th>\n",
       "      <td>Chews Cafe</td>\n",
       "      <td>New York</td>\n",
       "      <td>163566</td>\n",
       "      <td>3</td>\n",
       "      <td>35.9</td>\n",
       "      <td>Marinated Black Fig Salad with Thyme &amp; Parmesan</td>\n",
       "      <td>2/15/19</td>\n",
       "      <td>8:01</td>\n",
       "    </tr>\n",
       "    <tr>\n",
       "      <th>435837</th>\n",
       "      <td>Chews Cafe</td>\n",
       "      <td>New York</td>\n",
       "      <td>163566</td>\n",
       "      <td>3</td>\n",
       "      <td>33.4</td>\n",
       "      <td>Fried Smelts. Butterflied and Boneless</td>\n",
       "      <td>2/15/19</td>\n",
       "      <td>8:01</td>\n",
       "    </tr>\n",
       "    <tr>\n",
       "      <th>435951</th>\n",
       "      <td>Chews Cafe</td>\n",
       "      <td>New York</td>\n",
       "      <td>163566</td>\n",
       "      <td>3</td>\n",
       "      <td>38.9</td>\n",
       "      <td>Camembert</td>\n",
       "      <td>2/15/19</td>\n",
       "      <td>8:01</td>\n",
       "    </tr>\n",
       "  </tbody>\n",
       "</table>\n",
       "</div>"
      ],
      "text/plain": [
       "              name      city  order_id  amount  price  \\\n",
       "435535  Chews Cafe  New York    163566       3   37.9   \n",
       "435655  Chews Cafe  New York    163566       3   35.9   \n",
       "435837  Chews Cafe  New York    163566       3   33.4   \n",
       "435951  Chews Cafe  New York    163566       3   38.9   \n",
       "\n",
       "                                           product_name order_date order_time  \n",
       "435535                       Calamari. Regular or Spicy    2/15/19       8:01  \n",
       "435655  Marinated Black Fig Salad with Thyme & Parmesan    2/15/19       8:01  \n",
       "435837           Fried Smelts. Butterflied and Boneless    2/15/19       8:01  \n",
       "435951                                        Camembert    2/15/19       8:01  "
      ]
     },
     "execution_count": 93,
     "metadata": {},
     "output_type": "execute_result"
    }
   ],
   "source": [
    "final_df[final_df['order_id'] == 163566]"
   ]
  },
  {
   "cell_type": "code",
   "execution_count": 17,
   "metadata": {},
   "outputs": [
    {
     "name": "stdout",
     "output_type": "stream",
     "text": [
      "<class 'pandas.core.series.Series'>\n",
      "Int64Index: 486031 entries, 0 to 486030\n",
      "Series name: city\n",
      "Non-Null Count   Dtype \n",
      "--------------   ----- \n",
      "338259 non-null  object\n",
      "dtypes: object(1)\n",
      "memory usage: 7.4+ MB\n"
     ]
    }
   ],
   "source": [
    "final_df['city'].info()"
   ]
  },
  {
   "cell_type": "markdown",
   "metadata": {},
   "source": [
    "Average order revenue per Restaurant "
   ]
  },
  {
   "cell_type": "code",
   "execution_count": 13,
   "metadata": {},
   "outputs": [
    {
     "data": {
      "text/plain": [
       "order_id  name          \n",
       "147349    Pabst             122.4\n",
       "159529    Pabst             122.4\n",
       "161703    Pabst             122.4\n",
       "141424    Pabst             122.4\n",
       "140536    Donahues Lunch    120.9\n",
       "Name: revenue, dtype: float64"
      ]
     },
     "execution_count": 13,
     "metadata": {},
     "output_type": "execute_result"
    }
   ],
   "source": [
    "final_df['revenue'] = final_df['amount'] * final_df['price']\n",
    "#restorderitem_orderable_df.head(25)\n",
    "final_df.groupby(['order_id','name'])['revenue'].mean().sort_values(ascending=False).head()"
   ]
  },
  {
   "cell_type": "markdown",
   "metadata": {},
   "source": [
    "Best Seller Products per restaurant"
   ]
  },
  {
   "cell_type": "code",
   "execution_count": 12,
   "metadata": {},
   "outputs": [],
   "source": [
    "best_seller_df = final_df.groupby(['name','product_name'])[\"amount\"].sum().sort_values(ascending=False).reset_index().head(20)"
   ]
  },
  {
   "cell_type": "markdown",
   "metadata": {},
   "source": [
    "Best Seller Diches Global"
   ]
  },
  {
   "cell_type": "code",
   "execution_count": 22,
   "metadata": {},
   "outputs": [],
   "source": [
    "best_seller_df = final_df.groupby(['product_name'])[\"amount\"].sum().sort_values(ascending=False).reset_index().head(50)"
   ]
  },
  {
   "cell_type": "markdown",
   "metadata": {},
   "source": [
    "Plotting Scatter Map from Bestseller Products"
   ]
  },
  {
   "cell_type": "code",
   "execution_count": 14,
   "metadata": {},
   "outputs": [],
   "source": [
    "import matplotlib.pyplot as plt\n",
    "import numpy as np\n",
    "import plotly.express as px"
   ]
  },
  {
   "cell_type": "code",
   "execution_count": 43,
   "metadata": {},
   "outputs": [
    {
     "data": {
      "application/vnd.plotly.v1+json": {
       "config": {
        "plotlyServerURL": "https://plot.ly"
       },
       "data": [
        {
         "hovertemplate": "product_name=%{x}<br>amount=%{marker.color}<extra></extra>",
         "legendgroup": "",
         "marker": {
          "color": [
           2578,
           2577,
           2447,
           2432,
           2412,
           2407,
           2357,
           2295,
           2242,
           2209,
           2138,
           2125,
           2115,
           2110,
           2109,
           2103,
           2043,
           2030,
           2030,
           2014,
           2005,
           1984,
           1980,
           1949,
           1937,
           1929,
           1918,
           1899,
           1868,
           1836,
           1832,
           1831,
           1824,
           1799,
           1787,
           1782,
           1774,
           1767,
           1757,
           1756,
           1754,
           1748,
           1746,
           1746,
           1739,
           1726,
           1724,
           1711,
           1708,
           1701
          ],
          "coloraxis": "coloraxis",
          "size": [
           2578,
           2577,
           2447,
           2432,
           2412,
           2407,
           2357,
           2295,
           2242,
           2209,
           2138,
           2125,
           2115,
           2110,
           2109,
           2103,
           2043,
           2030,
           2030,
           2014,
           2005,
           1984,
           1980,
           1949,
           1937,
           1929,
           1918,
           1899,
           1868,
           1836,
           1832,
           1831,
           1824,
           1799,
           1787,
           1782,
           1774,
           1767,
           1757,
           1756,
           1754,
           1748,
           1746,
           1746,
           1739,
           1726,
           1724,
           1711,
           1708,
           1701
          ],
          "sizemode": "area",
          "sizeref": 6.445,
          "symbol": "circle"
         },
         "mode": "markers",
         "name": "",
         "orientation": "v",
         "showlegend": false,
         "type": "scatter",
         "x": [
          "Wraps: W6  Italian Tuna Wrap (No Mayo No Oil), Plum Tomato, Leaf Lettuce & Sprouts ... 5.95",
          "Braised Pork Loin stuffed with sweet sausage and served with artichoke and zucchini",
          "Cabernet Sauvignon, Duckhorn, 1986. (Napa Valley)",
          "Unfiltered Apple Juice",
          "Onion Soup GratinÃƒÂ©e",
          "Shrimp Cocktail",
          "Cinnamon Sticky Buns ...2.25",
          "Chicken w. Bean Curd",
          "Steamed Broccoli w. Shrimp & Chicken",
          "Sanka",
          "Albarino, Morgadio, 1999. (Spain)",
          "Big Muffins...1.65:  Honey Raisin Bran Ã¢Â€Â¢ Blueberry Ã¢Â€Â¢ Banana Nut Ã¢Â€Â¢ Carrot Ã¢Â€Â¢ Cranberry Orange Ã¢Â€Â¢ Corn Ã¢Â€Â¢ Apple Cinnamon Raisin Ã¢Â€Â¢ Lemon Popply Ã¢Â€Â¢ Almond Ã¢Â€Â¢ Chocolate Chip",
          "Warm Goat Cheese and Carmelized Onion Tart",
          "Domaine Carneros, Brut, 1992, Napa",
          "Terrine de canard",
          "Chardonnay, Estancia Estates 1996 (Monterey)",
          "Chardonnay, Glass Mountain",
          "Joes Grilled Chicken",
          "Warm asparagus, vinaigrette",
          "Tofu Honey Pie. tofu with Cream Cheese and Blueberry Topping",
          "Slow Poached Farm Egg In a Jar- with Maine lobster, crosnes and sea urchin froth",
          "Sauvignon Blanc, Cakebread 97",
          "Beaujolais Brouilly, Chateau de la Chaize 1996 (Burgundy)",
          "OUR VERY OWN APRICOT SORBET",
          "Pork w. Mixed Veg",
          "Half 2 lb Maine Lobster shrimp & scallops, accompanied with a selection of any four vegetables from our Antipasto Bar",
          "CHILLED BUTTERNUT SQUASH SOUP WITH DILL",
          "Chardonnay, Iron Horse 95",
          "Joes Blackened Grilled Potatoes",
          "NY Pastrami Smoked Salmon Club Sandwich - potato and haricot-vert salad with Pommery mustard dressing",
          "San Pallegrino",
          "Flavored Coffee of the day ... ..96 ... 1.18 ... 1.44",
          "Cappuccino",
          "Shellfish Platter",
          "Duvel",
          "Kung Po Baby Shrimp",
          "Riesling Saering, Grand Cru, Domaine Schlumberger, Alsace, France 1997",
          "Brundlmayer: Austria, Pinot Noir, Pinot Blanc",
          "Gouden Carolus",
          "Beef Fried Rice",
          "Burger",
          "Steamed Broccoli w. Chicken",
          "Charles Heidsieck",
          "KRUG, GRANDE CUVEE, BRUT CHAMPAGNE NV",
          "Chateauneuf-du-Pape, Chateau Mont-Redon, Rhone, France 1998",
          "Beefeater Gin",
          "Manhattan",
          "Assorted Teas*",
          "Shrimp w. Eggplant",
          "Chocolate Raspberry Cake"
         ],
         "xaxis": "x",
         "y": [
          2578,
          2577,
          2447,
          2432,
          2412,
          2407,
          2357,
          2295,
          2242,
          2209,
          2138,
          2125,
          2115,
          2110,
          2109,
          2103,
          2043,
          2030,
          2030,
          2014,
          2005,
          1984,
          1980,
          1949,
          1937,
          1929,
          1918,
          1899,
          1868,
          1836,
          1832,
          1831,
          1824,
          1799,
          1787,
          1782,
          1774,
          1767,
          1757,
          1756,
          1754,
          1748,
          1746,
          1746,
          1739,
          1726,
          1724,
          1711,
          1708,
          1701
         ],
         "yaxis": "y"
        }
       ],
       "layout": {
        "coloraxis": {
         "colorbar": {
          "title": {
           "text": "amount"
          }
         },
         "colorscale": [
          [
           0,
           "#0d0887"
          ],
          [
           0.1111111111111111,
           "#46039f"
          ],
          [
           0.2222222222222222,
           "#7201a8"
          ],
          [
           0.3333333333333333,
           "#9c179e"
          ],
          [
           0.4444444444444444,
           "#bd3786"
          ],
          [
           0.5555555555555556,
           "#d8576b"
          ],
          [
           0.6666666666666666,
           "#ed7953"
          ],
          [
           0.7777777777777778,
           "#fb9f3a"
          ],
          [
           0.8888888888888888,
           "#fdca26"
          ],
          [
           1,
           "#f0f921"
          ]
         ]
        },
        "font": {
         "color": "darksalmon",
         "family": "Roboto Mono"
        },
        "legend": {
         "itemsizing": "constant",
         "tracegroupgap": 0
        },
        "template": {
         "data": {
          "bar": [
           {
            "error_x": {
             "color": "#2a3f5f"
            },
            "error_y": {
             "color": "#2a3f5f"
            },
            "marker": {
             "line": {
              "color": "#E5ECF6",
              "width": 0.5
             },
             "pattern": {
              "fillmode": "overlay",
              "size": 10,
              "solidity": 0.2
             }
            },
            "type": "bar"
           }
          ],
          "barpolar": [
           {
            "marker": {
             "line": {
              "color": "#E5ECF6",
              "width": 0.5
             },
             "pattern": {
              "fillmode": "overlay",
              "size": 10,
              "solidity": 0.2
             }
            },
            "type": "barpolar"
           }
          ],
          "carpet": [
           {
            "aaxis": {
             "endlinecolor": "#2a3f5f",
             "gridcolor": "white",
             "linecolor": "white",
             "minorgridcolor": "white",
             "startlinecolor": "#2a3f5f"
            },
            "baxis": {
             "endlinecolor": "#2a3f5f",
             "gridcolor": "white",
             "linecolor": "white",
             "minorgridcolor": "white",
             "startlinecolor": "#2a3f5f"
            },
            "type": "carpet"
           }
          ],
          "choropleth": [
           {
            "colorbar": {
             "outlinewidth": 0,
             "ticks": ""
            },
            "type": "choropleth"
           }
          ],
          "contour": [
           {
            "colorbar": {
             "outlinewidth": 0,
             "ticks": ""
            },
            "colorscale": [
             [
              0,
              "#0d0887"
             ],
             [
              0.1111111111111111,
              "#46039f"
             ],
             [
              0.2222222222222222,
              "#7201a8"
             ],
             [
              0.3333333333333333,
              "#9c179e"
             ],
             [
              0.4444444444444444,
              "#bd3786"
             ],
             [
              0.5555555555555556,
              "#d8576b"
             ],
             [
              0.6666666666666666,
              "#ed7953"
             ],
             [
              0.7777777777777778,
              "#fb9f3a"
             ],
             [
              0.8888888888888888,
              "#fdca26"
             ],
             [
              1,
              "#f0f921"
             ]
            ],
            "type": "contour"
           }
          ],
          "contourcarpet": [
           {
            "colorbar": {
             "outlinewidth": 0,
             "ticks": ""
            },
            "type": "contourcarpet"
           }
          ],
          "heatmap": [
           {
            "colorbar": {
             "outlinewidth": 0,
             "ticks": ""
            },
            "colorscale": [
             [
              0,
              "#0d0887"
             ],
             [
              0.1111111111111111,
              "#46039f"
             ],
             [
              0.2222222222222222,
              "#7201a8"
             ],
             [
              0.3333333333333333,
              "#9c179e"
             ],
             [
              0.4444444444444444,
              "#bd3786"
             ],
             [
              0.5555555555555556,
              "#d8576b"
             ],
             [
              0.6666666666666666,
              "#ed7953"
             ],
             [
              0.7777777777777778,
              "#fb9f3a"
             ],
             [
              0.8888888888888888,
              "#fdca26"
             ],
             [
              1,
              "#f0f921"
             ]
            ],
            "type": "heatmap"
           }
          ],
          "heatmapgl": [
           {
            "colorbar": {
             "outlinewidth": 0,
             "ticks": ""
            },
            "colorscale": [
             [
              0,
              "#0d0887"
             ],
             [
              0.1111111111111111,
              "#46039f"
             ],
             [
              0.2222222222222222,
              "#7201a8"
             ],
             [
              0.3333333333333333,
              "#9c179e"
             ],
             [
              0.4444444444444444,
              "#bd3786"
             ],
             [
              0.5555555555555556,
              "#d8576b"
             ],
             [
              0.6666666666666666,
              "#ed7953"
             ],
             [
              0.7777777777777778,
              "#fb9f3a"
             ],
             [
              0.8888888888888888,
              "#fdca26"
             ],
             [
              1,
              "#f0f921"
             ]
            ],
            "type": "heatmapgl"
           }
          ],
          "histogram": [
           {
            "marker": {
             "pattern": {
              "fillmode": "overlay",
              "size": 10,
              "solidity": 0.2
             }
            },
            "type": "histogram"
           }
          ],
          "histogram2d": [
           {
            "colorbar": {
             "outlinewidth": 0,
             "ticks": ""
            },
            "colorscale": [
             [
              0,
              "#0d0887"
             ],
             [
              0.1111111111111111,
              "#46039f"
             ],
             [
              0.2222222222222222,
              "#7201a8"
             ],
             [
              0.3333333333333333,
              "#9c179e"
             ],
             [
              0.4444444444444444,
              "#bd3786"
             ],
             [
              0.5555555555555556,
              "#d8576b"
             ],
             [
              0.6666666666666666,
              "#ed7953"
             ],
             [
              0.7777777777777778,
              "#fb9f3a"
             ],
             [
              0.8888888888888888,
              "#fdca26"
             ],
             [
              1,
              "#f0f921"
             ]
            ],
            "type": "histogram2d"
           }
          ],
          "histogram2dcontour": [
           {
            "colorbar": {
             "outlinewidth": 0,
             "ticks": ""
            },
            "colorscale": [
             [
              0,
              "#0d0887"
             ],
             [
              0.1111111111111111,
              "#46039f"
             ],
             [
              0.2222222222222222,
              "#7201a8"
             ],
             [
              0.3333333333333333,
              "#9c179e"
             ],
             [
              0.4444444444444444,
              "#bd3786"
             ],
             [
              0.5555555555555556,
              "#d8576b"
             ],
             [
              0.6666666666666666,
              "#ed7953"
             ],
             [
              0.7777777777777778,
              "#fb9f3a"
             ],
             [
              0.8888888888888888,
              "#fdca26"
             ],
             [
              1,
              "#f0f921"
             ]
            ],
            "type": "histogram2dcontour"
           }
          ],
          "mesh3d": [
           {
            "colorbar": {
             "outlinewidth": 0,
             "ticks": ""
            },
            "type": "mesh3d"
           }
          ],
          "parcoords": [
           {
            "line": {
             "colorbar": {
              "outlinewidth": 0,
              "ticks": ""
             }
            },
            "type": "parcoords"
           }
          ],
          "pie": [
           {
            "automargin": true,
            "type": "pie"
           }
          ],
          "scatter": [
           {
            "marker": {
             "colorbar": {
              "outlinewidth": 0,
              "ticks": ""
             }
            },
            "type": "scatter"
           }
          ],
          "scatter3d": [
           {
            "line": {
             "colorbar": {
              "outlinewidth": 0,
              "ticks": ""
             }
            },
            "marker": {
             "colorbar": {
              "outlinewidth": 0,
              "ticks": ""
             }
            },
            "type": "scatter3d"
           }
          ],
          "scattercarpet": [
           {
            "marker": {
             "colorbar": {
              "outlinewidth": 0,
              "ticks": ""
             }
            },
            "type": "scattercarpet"
           }
          ],
          "scattergeo": [
           {
            "marker": {
             "colorbar": {
              "outlinewidth": 0,
              "ticks": ""
             }
            },
            "type": "scattergeo"
           }
          ],
          "scattergl": [
           {
            "marker": {
             "colorbar": {
              "outlinewidth": 0,
              "ticks": ""
             }
            },
            "type": "scattergl"
           }
          ],
          "scattermapbox": [
           {
            "marker": {
             "colorbar": {
              "outlinewidth": 0,
              "ticks": ""
             }
            },
            "type": "scattermapbox"
           }
          ],
          "scatterpolar": [
           {
            "marker": {
             "colorbar": {
              "outlinewidth": 0,
              "ticks": ""
             }
            },
            "type": "scatterpolar"
           }
          ],
          "scatterpolargl": [
           {
            "marker": {
             "colorbar": {
              "outlinewidth": 0,
              "ticks": ""
             }
            },
            "type": "scatterpolargl"
           }
          ],
          "scatterternary": [
           {
            "marker": {
             "colorbar": {
              "outlinewidth": 0,
              "ticks": ""
             }
            },
            "type": "scatterternary"
           }
          ],
          "surface": [
           {
            "colorbar": {
             "outlinewidth": 0,
             "ticks": ""
            },
            "colorscale": [
             [
              0,
              "#0d0887"
             ],
             [
              0.1111111111111111,
              "#46039f"
             ],
             [
              0.2222222222222222,
              "#7201a8"
             ],
             [
              0.3333333333333333,
              "#9c179e"
             ],
             [
              0.4444444444444444,
              "#bd3786"
             ],
             [
              0.5555555555555556,
              "#d8576b"
             ],
             [
              0.6666666666666666,
              "#ed7953"
             ],
             [
              0.7777777777777778,
              "#fb9f3a"
             ],
             [
              0.8888888888888888,
              "#fdca26"
             ],
             [
              1,
              "#f0f921"
             ]
            ],
            "type": "surface"
           }
          ],
          "table": [
           {
            "cells": {
             "fill": {
              "color": "#EBF0F8"
             },
             "line": {
              "color": "white"
             }
            },
            "header": {
             "fill": {
              "color": "#C8D4E3"
             },
             "line": {
              "color": "white"
             }
            },
            "type": "table"
           }
          ]
         },
         "layout": {
          "annotationdefaults": {
           "arrowcolor": "#2a3f5f",
           "arrowhead": 0,
           "arrowwidth": 1
          },
          "autotypenumbers": "strict",
          "coloraxis": {
           "colorbar": {
            "outlinewidth": 0,
            "ticks": ""
           }
          },
          "colorscale": {
           "diverging": [
            [
             0,
             "#8e0152"
            ],
            [
             0.1,
             "#c51b7d"
            ],
            [
             0.2,
             "#de77ae"
            ],
            [
             0.3,
             "#f1b6da"
            ],
            [
             0.4,
             "#fde0ef"
            ],
            [
             0.5,
             "#f7f7f7"
            ],
            [
             0.6,
             "#e6f5d0"
            ],
            [
             0.7,
             "#b8e186"
            ],
            [
             0.8,
             "#7fbc41"
            ],
            [
             0.9,
             "#4d9221"
            ],
            [
             1,
             "#276419"
            ]
           ],
           "sequential": [
            [
             0,
             "#0d0887"
            ],
            [
             0.1111111111111111,
             "#46039f"
            ],
            [
             0.2222222222222222,
             "#7201a8"
            ],
            [
             0.3333333333333333,
             "#9c179e"
            ],
            [
             0.4444444444444444,
             "#bd3786"
            ],
            [
             0.5555555555555556,
             "#d8576b"
            ],
            [
             0.6666666666666666,
             "#ed7953"
            ],
            [
             0.7777777777777778,
             "#fb9f3a"
            ],
            [
             0.8888888888888888,
             "#fdca26"
            ],
            [
             1,
             "#f0f921"
            ]
           ],
           "sequentialminus": [
            [
             0,
             "#0d0887"
            ],
            [
             0.1111111111111111,
             "#46039f"
            ],
            [
             0.2222222222222222,
             "#7201a8"
            ],
            [
             0.3333333333333333,
             "#9c179e"
            ],
            [
             0.4444444444444444,
             "#bd3786"
            ],
            [
             0.5555555555555556,
             "#d8576b"
            ],
            [
             0.6666666666666666,
             "#ed7953"
            ],
            [
             0.7777777777777778,
             "#fb9f3a"
            ],
            [
             0.8888888888888888,
             "#fdca26"
            ],
            [
             1,
             "#f0f921"
            ]
           ]
          },
          "colorway": [
           "#636efa",
           "#EF553B",
           "#00cc96",
           "#ab63fa",
           "#FFA15A",
           "#19d3f3",
           "#FF6692",
           "#B6E880",
           "#FF97FF",
           "#FECB52"
          ],
          "font": {
           "color": "#2a3f5f"
          },
          "geo": {
           "bgcolor": "white",
           "lakecolor": "white",
           "landcolor": "#E5ECF6",
           "showlakes": true,
           "showland": true,
           "subunitcolor": "white"
          },
          "hoverlabel": {
           "align": "left"
          },
          "hovermode": "closest",
          "mapbox": {
           "style": "light"
          },
          "paper_bgcolor": "white",
          "plot_bgcolor": "#E5ECF6",
          "polar": {
           "angularaxis": {
            "gridcolor": "white",
            "linecolor": "white",
            "ticks": ""
           },
           "bgcolor": "#E5ECF6",
           "radialaxis": {
            "gridcolor": "white",
            "linecolor": "white",
            "ticks": ""
           }
          },
          "scene": {
           "xaxis": {
            "backgroundcolor": "#E5ECF6",
            "gridcolor": "white",
            "gridwidth": 2,
            "linecolor": "white",
            "showbackground": true,
            "ticks": "",
            "zerolinecolor": "white"
           },
           "yaxis": {
            "backgroundcolor": "#E5ECF6",
            "gridcolor": "white",
            "gridwidth": 2,
            "linecolor": "white",
            "showbackground": true,
            "ticks": "",
            "zerolinecolor": "white"
           },
           "zaxis": {
            "backgroundcolor": "#E5ECF6",
            "gridcolor": "white",
            "gridwidth": 2,
            "linecolor": "white",
            "showbackground": true,
            "ticks": "",
            "zerolinecolor": "white"
           }
          },
          "shapedefaults": {
           "line": {
            "color": "#2a3f5f"
           }
          },
          "ternary": {
           "aaxis": {
            "gridcolor": "white",
            "linecolor": "white",
            "ticks": ""
           },
           "baxis": {
            "gridcolor": "white",
            "linecolor": "white",
            "ticks": ""
           },
           "bgcolor": "#E5ECF6",
           "caxis": {
            "gridcolor": "white",
            "linecolor": "white",
            "ticks": ""
           }
          },
          "title": {
           "x": 0.05
          },
          "xaxis": {
           "automargin": true,
           "gridcolor": "white",
           "linecolor": "white",
           "ticks": "",
           "title": {
            "standoff": 15
           },
           "zerolinecolor": "white",
           "zerolinewidth": 2
          },
          "yaxis": {
           "automargin": true,
           "gridcolor": "white",
           "linecolor": "white",
           "ticks": "",
           "title": {
            "standoff": 15
           },
           "zerolinecolor": "white",
           "zerolinewidth": 2
          }
         }
        },
        "title": {
         "font": {
          "color": "darkolivegreen",
          "family": "Times New Roman"
         },
         "text": "Global Best Seller Top 50"
        },
        "xaxis": {
         "anchor": "y",
         "domain": [
          0,
          1
         ],
         "showticklabels": false,
         "title": {
          "text": "Product"
         }
        },
        "yaxis": {
         "anchor": "x",
         "domain": [
          0,
          1
         ],
         "showticklabels": true,
         "title": {
          "text": "Amount"
         }
        }
       }
      }
     },
     "metadata": {},
     "output_type": "display_data"
    },
    {
     "data": {
      "text/plain": [
       "\"\\n\\nsizes = np.random.uniform(15, 80, len(best_seller_df['amount']))\\ncolors = np.random.uniform(15, 80, len(best_seller_df['amount']))\\n\\n# plot\\nfig, ax = plt.subplots(figsize =(16, 9))\\n\\nax.scatter(best_seller_df['product_name'].str.slice(0,5), best_seller_df['amount'],s=sizes, c=colors, vmin=0, vmax=100)\\n\\nplt.xticks([])\\n\\nplt.show()\\n\""
      ]
     },
     "execution_count": 43,
     "metadata": {},
     "output_type": "execute_result"
    }
   ],
   "source": [
    "figx = px.pie(best_seller_df, x='product_name', y='amount', color='amount', size='amount', title='Global Best Seller Top 50')\n",
    "figx.update_xaxes(title='Product', showticklabels=False)\n",
    "figx.update_yaxes(title='Amount', showticklabels=True)\n",
    "figx.update_layout(\n",
    "    title_font_family='Times New Roman',\n",
    "    title_font_color='darkolivegreen',\n",
    "    font_family='Roboto Mono',\n",
    "    font_color='darksalmon',\n",
    ")\n",
    "figx.show()\n",
    "\"\"\"\n",
    "\n",
    "sizes = np.random.uniform(15, 80, len(best_seller_df['amount']))\n",
    "colors = np.random.uniform(15, 80, len(best_seller_df['amount']))\n",
    "\n",
    "# plot\n",
    "fig, ax = plt.subplots(figsize =(16, 9))\n",
    "\n",
    "ax.scatter(best_seller_df['product_name'].str.slice(0,5), best_seller_df['amount'],s=sizes, c=colors, vmin=0, vmax=100)\n",
    "\n",
    "plt.xticks([])\n",
    "\n",
    "plt.show()\n",
    "\"\"\""
   ]
  },
  {
   "cell_type": "markdown",
   "metadata": {},
   "source": [
    "Loyality Program"
   ]
  },
  {
   "cell_type": "code",
   "execution_count": 14,
   "metadata": {},
   "outputs": [
    {
     "name": "stdout",
     "output_type": "stream",
     "text": [
      "                                  name      city  customer_id  order_id  \\\n",
      "93702                     Chocorua Inn       NaN         5744     99189   \n",
      "99679                      Roome Lodge       NaN         5744     10927   \n",
      "100363                     Roome Lodge       NaN         5744     10927   \n",
      "108958  Alpha Deuteron Phi Gamma Delta       NaN         5744     23841   \n",
      "109931  Alpha Deuteron Phi Gamma Delta       NaN         5744     23841   \n",
      "...                                ...       ...          ...       ...   \n",
      "470183                MetLife Building  New York         5744     32383   \n",
      "473803              Del Coronada Hotel  New York         5744     26725   \n",
      "474370              Del Coronada Hotel  New York         5744     26725   \n",
      "474781              Del Coronada Hotel  New York         5744     26725   \n",
      "474918              Del Coronada Hotel  New York         5744     26725   \n",
      "\n",
      "        amount  price                                       product_name  \\\n",
      "93702        1   33.3            Bandol Blanc, Pibarnon, 1998 (Provence)   \n",
      "99679        2   23.0  Fusilli Al Salmone CORKSCREW PASTA WITH SALMON...   \n",
      "100363       2   29.8  Four Seasons Jumbo shrimp, lobster, chicken, r...   \n",
      "108958       1   22.7  Capellini Frutti Di Mare ANGEL HAIR WITH SEAFO...   \n",
      "109931       2   20.0  Half-Sandwich (choice of Tuna Salad, Curried C...   \n",
      "...        ...    ...                                                ...   \n",
      "470183       3   18.7                          Muscat, Beaumes de Venise   \n",
      "473803       3   23.7                                          Cappucino   \n",
      "474370       2   24.1                                     Beef Chop Suey   \n",
      "474781       1   22.4  Saint-Julien, Chateau Gruaud Larose 1987 (Bord...   \n",
      "474918       3   13.5                                           Banoffee   \n",
      "\n",
      "       order_date order_time  revenue  \n",
      "93702     7/13/18      17:39     33.3  \n",
      "99679     7/24/17      14:56     46.0  \n",
      "100363    7/24/17      14:56     59.6  \n",
      "108958    9/27/17      21:30     22.7  \n",
      "109931    9/27/17      21:30     40.0  \n",
      "...           ...        ...      ...  \n",
      "470183    11/1/17      12:01     56.1  \n",
      "473803   10/10/17      15:05     71.1  \n",
      "474370   10/10/17      15:05     48.2  \n",
      "474781   10/10/17      15:05     22.4  \n",
      "474918   10/10/17      15:05     40.5  \n",
      "\n",
      "[62 rows x 10 columns]\n"
     ]
    }
   ],
   "source": [
    "print(final_df[final_df['customer_id'] == 5744])"
   ]
  },
  {
   "cell_type": "code",
   "execution_count": 14,
   "metadata": {},
   "outputs": [
    {
     "data": {
      "text/plain": [
       "2743"
      ]
     },
     "execution_count": 14,
     "metadata": {},
     "output_type": "execute_result"
    }
   ],
   "source": [
    "loyalty_tenpercent_count = int(final_df.groupby(['customer_id'])['order_id'].count().__len__() * 0.1)\n",
    "loyalty_tenpercent_count"
   ]
  },
  {
   "cell_type": "markdown",
   "metadata": {},
   "source": [
    "Unique Restaurant"
   ]
  },
  {
   "cell_type": "code",
   "execution_count": 20,
   "metadata": {},
   "outputs": [
    {
     "data": {
      "text/plain": [
       "array(['Rods 1890s Ranch House', 'Southern Railway',\n",
       "       'Associates Of The Enginer Corps And Company K',\n",
       "       'The Cleveland Bankers', 'The Streamliner', 'Lucullus Club',\n",
       "       'Club 31', 'Toyo Kisen Kaisha  Hong Kong Maru',\n",
       "       'Veteran Corps Of Artillery Military Society Of The War Of 1812',\n",
       "       'C.F. Wetzel', 'Harrys Bar', 'Long Island Business College Hall',\n",
       "       'Brooklyn Democratic Club', 'Seventh Masonic District',\n",
       "       'Salle Hotel', 'San Souci   Beverly Wilshire Hotel', 'The Pabst',\n",
       "       '18th Club', 'Karl Ratzschs',\n",
       "       'Nipppon Yusen Kaisha   S.S. Kobe Maru',\n",
       "       'Explorers Club   Arctic Club', 'Union Pacific  Railroad',\n",
       "       'Winthrop Hotel',\n",
       "       'American Spool Cotton Manufacturers Association',\n",
       "       'Willards Hotel', 'The Upholstey And Allied Trades',\n",
       "       'Century Club?', 'Amity Hall Inn', 'Library Room', 'Mills Hotel',\n",
       "       'Bert Hough & Tony Franker   Pabst Blue Ribbon',\n",
       "       'Friends Of H.Anthony Dyer', 'The Ballroom Of The Hotel Plaza',\n",
       "       'Brasserie Dalsace', 'Liptons Restaurant',\n",
       "       'Comrades Of The Army Of The Potomac', 'Dr. H. G. Sherman',\n",
       "       'Hamburg America Line', 'Santa Fe Dining Car Service',\n",
       "       'Restaurant Faberhof', 'Dante',\n",
       "       'Society Of Colonial Wars In State Of New Jersey',\n",
       "       'Sheraton Blackstone Chicago',\n",
       "       'Greenhuts Lunch Room at 18th and 19th Streets.',\n",
       "       'Yale Alumni Association', 'Au Chat Noir',\n",
       "       'Pennsylvania Tours To The Golden Gate', 'Grand Union Hotel',\n",
       "       'Tower Restaurant And Cafe', 'U.S.Government',\n",
       "       'Friends Of Mr. Charles A. Brunn', 'Western Reserve University',\n",
       "       'Society Of Medical Jurisprudence', 'Waldorf Astoria Hotel',\n",
       "       'Frederik Viii', 'Hotel De La Tremoille', 'Russell House,The',\n",
       "       'Friends Of Geo W. Gardner', 'S.S. Bruce', 'Henri Confiseur',\n",
       "       'The Guaranty Club', 'International Railway Congress',\n",
       "       'Orpheus Masquerade', 'Royal Literary Fund',\n",
       "       'Municipal Art Society', 'McKees Restaurant',\n",
       "       'Royal Hawaiian Hotel (Sheraton Hotels In Hawaii)',\n",
       "       'Graemere Hotel', 'The Four Seasons Motor Hotel',\n",
       "       'Robert E. Peary', 'Henry Van Schaick', 'Hotel Lexington',\n",
       "       'King Umberto And Queen Margharita',\n",
       "       'State Department Special To The Pand American Congress At The City Of Mexico (Pullman Car Service)',\n",
       "       'Blanchs', 'Ocean House', 'Assembly',\n",
       "       'Santa Fe Route Dining Car Service', 'Chocorua Inn',\n",
       "       'Greenhut-Siegel Cooper Co.', 'Simpson Timber', 'Parisien',\n",
       "       'The Florida Brewing Co.', 'Neuman & Bogdonoff', 'Roome Lodge',\n",
       "       'H.D. Bristols Oyster & Chop House', 'Royal York Hotel',\n",
       "       'J.J. Haggartys Mezzanine Tea Room', 'Palliser Hotel',\n",
       "       'Haverford Association Of New York',\n",
       "       'Alpha Deuteron Phi Gamma Delta',\n",
       "       'National Wholesale  Druggists Association',\n",
       "       'U.S.Atlantic Fleet Crews', 'Steamship Yucatan', 'Hotel Gloria',\n",
       "       'Hotel Chittenden', 'Alumni Association Of Public School No.26',\n",
       "       'Deutsche Gesandtschaft',\n",
       "       'Chambre De Commerce Francaise De New York', 'Norge Hotel',\n",
       "       'The Hotel Roosevelt', 'Patricia Murphys Candlelight Restaurants',\n",
       "       'Ideal Dining And Lunch Room', 'Park Lane', 'Spengers Fish Grotto',\n",
       "       'Ex Libris', 'Taillevent',\n",
       "       'Personal Friends, Business Associates, And Citizens',\n",
       "       'Cocoanut Grove', 'Eastern Hotel', 'Hotel Cecil',\n",
       "       'Hotel Pontchartrain', 'Haans', 'Safari Hotel',\n",
       "       'German Savings Bank Of Brooklyn', 'Los Angeles Consistory #3',\n",
       "       'Great Northern',\n",
       "       'Rotisserie De La Table Du Roy (Le Chef Georges)',\n",
       "       'Streets Of Mexico Restaurant', 'Berkeley Class Of 91',\n",
       "       'Ristorante Alfredo Alla Scrofa', 'Pains Fireworks Co. Employees',\n",
       "       'Mountain Park Hotel', 'Hochst', 'Hofbrau Haus',\n",
       "       'Steinbergs Dairy',\n",
       "       'American Chamber Of Commerce Of Paris Commission For The Exposiion Of 1900',\n",
       "       'Wells River Fish And Game Club', 'Purcell House', 'Sangamo Club',\n",
       "       'Shanes', 'Keystone Restaurant', 'Hotel Ponce De Leon',\n",
       "       'The Homestead Gwinn', 'W. Atlee Burpee', 'S.S. Constitution',\n",
       "       'Veteran Association Of The 5th Ny Artillery Volunteers',\n",
       "       'Bangkok Cuisine', 'Joe Coluccis Puccini Restaurant',\n",
       "       'The Scandia', 'Corps Consulaire', 'New Hotel Berkeley,The',\n",
       "       'Hotel Colorado', 'Elka Park Association', 'Wally J', 'Duffs',\n",
       "       'S.M.S.Vineta', 'Camp Wadsworth', 'John Hart',\n",
       "       'Ernest Marples Cellars', 'The Pilgrims', 'The Red Star Inn',\n",
       "       'La Vicomtesse Parker', 'Hamburg  Armerika Linie', 'Paul Clemann',\n",
       "       'Merchants Club   The Salvation Army', 'The Terrace Restaurant',\n",
       "       'Mrs. H. Mc K. Twombley', 'Palace Hotel Restaurat', 'Oneco Hotel',\n",
       "       'S.S. Hastings', 'Leon & Eddies', 'Restaurant Cafe Winkler',\n",
       "       'Associates Of The Interborough Rapid Transit Co.',\n",
       "       'Deutsche Liederkranz', 'R.H. Macy and Co.', 'Joseph Pulitzer',\n",
       "       'Hotel De Paris', 'Community Of Zurich',\n",
       "       'Cafe New York Restaurant', 'Royal Pavillion Hotel',\n",
       "       'Nippon Yusen Kaisha   S.S.Kobe Liaru', 'League Building',\n",
       "       'Volapukakluba Nolumelopik', 'Fritzels', 'Chateau Frontenac Hotel',\n",
       "       'Hotel Grenoble', 'Delta Kappa Epsilon Fraternity',\n",
       "       'The Waldorf Astoria Hotel',\n",
       "       'Washington Association Of Bowdoin Alumni',\n",
       "       'Paquebot Ile De France', 'Union League Of Maryland',\n",
       "       'Cigar Leaf Tobacco Board Of Trade Of The United States',\n",
       "       'Petrossian Restaurant', 'The National Arts Club',\n",
       "       'Kempinski Restaurant', 'Hotel Royal Palm', 'Glen Falls Club',\n",
       "       'Val Bella',\n",
       "       'Supper Menu, Red Star Line Antwerpen New York Antwerpen Boston',\n",
       "       'The Pullman Company', 'Jacob Reiss', 'Hotel Eugenia Victoria',\n",
       "       'Little China', 'Kronenhalle', 'Ritz-Carlton', 'Frankfurter Hof',\n",
       "       'Cafe Mellone', 'Ewings New Restaurant',\n",
       "       'New York State Hotel Association', 'The Windsor',\n",
       "       'Restaurant Mayan', 'Congress Hotel Association',\n",
       "       'Hotel Dreyfus French Restauranr', '2601 Parkway', 'Luccionis',\n",
       "       'Unione Panettieri Italiani', 'Pear And Pardritge', 'The Astor',\n",
       "       'S. S. President Wilson', 'Campi',\n",
       "       'Complimentary Banquet, Mount Nelson Hotel Cape Town, S.A.',\n",
       "       'Ristorante Cova', 'London Welsh Lodge', 'Missouri Society',\n",
       "       'Harvard University', 'Amys', 'Aviation Terrace',\n",
       "       'Annual Dinner Of The New York University Alumni Association, Waldorf Astoria',\n",
       "       'Thomas Cook & Son Special', 'Grand Hotel Royal',\n",
       "       'Le ProvenÃƒÂ§al', 'S.S. American Merchant',\n",
       "       '[Restaurant And/Or Location Not Given]',\n",
       "       'Friends Of Mr. Arthur J. Okeeffe', 'The Brown Palace Hotel',\n",
       "       'The Thirteen Club', 'Princess Hotel',\n",
       "       'Harry Voilers Trocadero Restaurant',\n",
       "       'Pullman Dining Car Serfvice The President', 'King Frederik Viii',\n",
       "       'Stauchs Resturant', 'Stockeld Park',\n",
       "       'Northern Steamship Company/Great Orthern Ry. Line',\n",
       "       'Blue Horizon', 'Gardner & Smith', 'Victorian',\n",
       "       'Board Of Managers Of The Private Charitable Institutions',\n",
       "       'Bevan House', 'Casa Del Rey', 'Hotel Westminster', 'The Colony',\n",
       "       'College Of Pharmacy Of The City Of Ny', 'Manhanset House',\n",
       "       'U.S.M.S. Philadelphia, Third Class Menu.',\n",
       "       'Restaurant name and/or location not given]', 'The Lawrence',\n",
       "       'Zodiac Room At Neiman Marcus', 'Alberg Inn', 'Jack Trayers',\n",
       "       'All Souls Church', 'Papyrus Club', 'Volks Restaurant',\n",
       "       'President Of Jamestown Exposition Company (H. St. George Tucker)  And Mrs. Tucker',\n",
       "       'St. Johns Lodge No. 1', 'Deutschen Haus', 'Aidas East',\n",
       "       'Manhattan Casino', 'The Patriarchs',\n",
       "       'Mayor And Citizens Of Chicago', 'Norddeutsch Lloyd Bremen',\n",
       "       'Quill And Dagger', 'Mr. J.P.Smith',\n",
       "       'Oregon Railroad & Navigation Co.', 'Riggs House',\n",
       "       'The Commodore Hotel', 'The Berkeley',\n",
       "       'The Hannaberry & Moran Dining Room',\n",
       "       'Nippon Yusen Kaisha  S.S.Nasuga',\n",
       "       'The Pennsylvania Bar Association On Behalf Of The Bar Of The Commonwealth',\n",
       "       'Italian American Citizens Of The Sixth Assembly District',\n",
       "       'German Gov.', 'Huguenin', 'Grill Car', 'Cathay House',\n",
       "       'Albany Society Of Nyc', 'San Remo Hotel', 'Union Pacific',\n",
       "       'Carlton Terrace', 'St. Georges Society Of New York', 'Le Pistou',\n",
       "       'Cigar Manufacturers',\n",
       "       'Association Of Life Insurance Medical Directors',\n",
       "       'Patent Law Associaton Of Washington', 'Cafe Zur Frauenkirche',\n",
       "       'Mandels Tea Rooms', 'Mouquin Restaurant & Wine Co.',\n",
       "       'Cercle Francais De Lharmonie',\n",
       "       'Connecticut Society Of Civil Engineers',\n",
       "       'Restaurant Le Bourgogne', 'Kalils Restaurant',\n",
       "       'Testimonial Dinner, Little Hungary', 'Quill And Dagger Club',\n",
       "       'Sullivans', 'Larrys Country Inn',\n",
       "       'City Editors Association Of Philadelphia', 'Mr. Lowden',\n",
       "       'Savoy Grill', 'Terrace Garden', 'Deal Golf and Country Club',\n",
       "       'Green Mountain Restaurant Diner', 'French Circle', 'Hotel Empire',\n",
       "       'Terminal Station Lunch Room', 'Stammhaus',\n",
       "       'Jewelers League Of New York', 'Shezan', 'Crawfords',\n",
       "       'National Republican Club House [?]',\n",
       "       'Chamber Of Commerce (New York City?)', 'S.S. Nieuw Amsterdam',\n",
       "       'Ritz-Carlton Hotel', 'Memorial Apts.', 'Agora',\n",
       "       '(Fifth Avenue Hotel?}', 'New England Delegation Of H.M.M.B.A.',\n",
       "       'The Greenbrier', 'Grunewald Hotel', 'New York Library Club',\n",
       "       'The Red Onion', 'North Shore Country Club   Main Lounge',\n",
       "       'La Residence',\n",
       "       'Society Of Colonial Wars In The State Of New Jersey',\n",
       "       'Sons Of Delaware', 'The Lyric Theatre', 'Us Military Academy',\n",
       "       'Don Roths Blackhawk Restaurant',\n",
       "       'Dinner Held By Pennsylvania Railroad', 'Waldorf Hotel',\n",
       "       'South Shore Country Club', 'Cincinnati Lodge Of Elks No. 5',\n",
       "       'Old Prague Restaurant',\n",
       "       'Medical Society Of The State Of New York', 'Celtic Club',\n",
       "       'Lafayette Hotel', '[The Waldorf Astoria Hotel (New York, N.Y.)]',\n",
       "       'Club Venus', 'Hong Kong Restaurant', 'The Spalding',\n",
       "       'Police Department Of The City Of New York',\n",
       "       'Incorporated Institute Of Accountants',\n",
       "       'Mexican American S.S. Co.', 'R.M.S. Parthia',\n",
       "       'Norfolk And Western Railway, Southern Railway System',\n",
       "       'Nippon Yusen Kaisha   S.S. Kobe Maru',\n",
       "       'Tzu Hai Pin Cantonese Restaurant',\n",
       "       'The Essex Hotel The Colonnades', 'University Of Catania',\n",
       "       'Mr. S.M.Felton', 'Chula Vista', 'The French Village',\n",
       "       'Poodle Duck Club', 'Girard College',\n",
       "       'North Carolina Society Of New York', 'Old Poodle Dog Restaurant',\n",
       "       'The Buffalo Orpheus', 'St. Martins Lodge No.2455',\n",
       "       'Broadway Tabernacle Church', 'Mayer', 'Tsuruya', 'The Lambs',\n",
       "       'Oceanic Steamship Company   Ventura',\n",
       "       'Clinton B. Fisk Prohibition Club', 'Sherrys',\n",
       "       'Essex House At The Colonnades', 'Chicken Ranch',\n",
       "       'Dewitt Clinton Council No.22 R&S M',\n",
       "       'Societe Nationale De Poudres Et Explosifs', 'Regal',\n",
       "       'Warrant Officers Of The U.S. North Atlantic Squadron',\n",
       "       'Hotel St. George', 'The Concord', 'Donahues Lunch',\n",
       "       'King Solomons Grill', 'Billiard Pool And Bowling Tournament',\n",
       "       'Chews Cafe', 'Taj', 'Rubinstein Club', 'Battle Creek Sanitarium',\n",
       "       'Hotel New Weston', 'Providence Art Club', 'Societa La Piemontese',\n",
       "       'Pabst', 'Town Hall',\n",
       "       'Geneva Society International Society Of Hotel Employees',\n",
       "       'Canadian Pacific Railway Co.   S.S. Alberta', 'Hotel Statler',\n",
       "       'Iturbide Restaurant', 'Mitre Hotel', 'Hotel Ingleside Motel',\n",
       "       'Waltons Old Homestead Oyster And Chop House',\n",
       "       'Louisville & Nashville Railroaad   The Pullman Co.',\n",
       "       'Barkers Restaurant and Lunch Room', 'Brooklyn Daily Eagle Staff',\n",
       "       'Saratogy Racing Association', 'Florida Postmasters Association',\n",
       "       'Hardware And Metal Trades', 'Junket Club', 'MetLife Building',\n",
       "       'Town And Country', 'Brevoort House', 'Le Vert Galant',\n",
       "       'Del Coronada Hotel', 'Leones', 'Penn Stroud Hotel',\n",
       "       'Dramaten Restaurangen', 'The Radisson Hotels', 'West Side Club',\n",
       "       'Kemms Cafe and Restaurant',\n",
       "       'National Association Of Photo Engravers', 'Hotel Worthy'],\n",
       "      dtype=object)"
      ]
     },
     "execution_count": 20,
     "metadata": {},
     "output_type": "execute_result"
    }
   ],
   "source": [
    "final_df['name'].unique()"
   ]
  },
  {
   "cell_type": "markdown",
   "metadata": {},
   "source": [
    "Global Side Loyality Programme %10"
   ]
  },
  {
   "cell_type": "code",
   "execution_count": 21,
   "metadata": {},
   "outputs": [
    {
     "data": {
      "text/plain": [
       "customer_id\n",
       "331      83\n",
       "733      79\n",
       "2735     70\n",
       "581      70\n",
       "247      69\n",
       "         ..\n",
       "5364     34\n",
       "15988    34\n",
       "10052    34\n",
       "6659     34\n",
       "4172     34\n",
       "Name: order_id, Length: 2743, dtype: int64"
      ]
     },
     "execution_count": 21,
     "metadata": {},
     "output_type": "execute_result"
    }
   ],
   "source": [
    "final_df.groupby(['customer_id'])['order_id'].count().sort_values(ascending=False).head(loyalty_tenpercent_count)"
   ]
  },
  {
   "cell_type": "markdown",
   "metadata": {},
   "source": [
    "Restaurant side Loyality Programme %10"
   ]
  },
  {
   "cell_type": "code",
   "execution_count": 29,
   "metadata": {},
   "outputs": [
    {
     "name": "stdout",
     "output_type": "stream",
     "text": [
      "int64\n",
      "object\n"
     ]
    }
   ],
   "source": [
    "loyality_count = final_df[final_df['name'] == 'Brooklyn Democratic Club']['customer_id'].nunique() * 0.1\n",
    "data = final_df[final_df['name'] == 'Brooklyn Democratic Club'].groupby(['customer_id'])['order_id'].count().sort_values(ascending=False).head(int(loyality_count)).reset_index()\n",
    "print(data.customer_id.dtypes)\n",
    "data['customer_id'] = data['customer_id'].astype(str)\n",
    "print(data.customer_id.dtypes)"
   ]
  },
  {
   "cell_type": "markdown",
   "metadata": {},
   "source": [
    "Marplotlib"
   ]
  },
  {
   "cell_type": "code",
   "execution_count": 106,
   "metadata": {},
   "outputs": [
    {
     "data": {
      "image/png": "[encoded data removed]",
      "text/plain": [
       "<Figure size 1152x648 with 1 Axes>"
      ]
     },
     "metadata": {
      "needs_background": "light"
     },
     "output_type": "display_data"
    }
   ],
   "source": [
    "customer_id = data['customer_id'].astype(str)\n",
    "order_count = data['order_id']\n",
    "\n",
    "fig, ax = plt.subplots(figsize =(16, 9))\n",
    " \n",
    "# Horizontal Bar Plot\n",
    "ax.barh(customer_id, order_count)\n",
    " \n",
    "# Remove axes splines\n",
    "for s in ['top', 'bottom', 'left', 'right']:\n",
    "    ax.spines[s].set_visible(False)\n",
    " \n",
    "# Remove x, y Ticks\n",
    "ax.xaxis.set_ticks_position('none')\n",
    "ax.yaxis.set_ticks_position('none')\n",
    " \n",
    "# Add padding between axes and labels\n",
    "ax.xaxis.set_tick_params(pad = 5)\n",
    "ax.yaxis.set_tick_params(pad = 10)\n",
    " \n",
    "# Add x, y gridlines\n",
    "ax.grid(visible = True, color ='grey',linestyle ='-.', linewidth = 0.5, alpha = 0.2)\n",
    " \n",
    "# Show top values\n",
    "ax.invert_yaxis()\n",
    " \n",
    "# Add annotation to bars\n",
    "for i in ax.patches:\n",
    "    plt.text(i.get_width()+0.2, i.get_y()+0.5,\n",
    "             str(round((i.get_width()), 2)),\n",
    "             fontsize = 10, fontweight ='bold',\n",
    "             color ='grey')\n",
    " \n",
    "# Add Plot Title\n",
    "ax.set_title('Restaurant X Loyality Programme %10 List',loc ='left')\n",
    " \n",
    "# Add Text watermark\n",
    "fig.text(0.9, 0.15, 'Kivanc', fontsize = 12,\n",
    "         color ='grey', ha ='right', va ='bottom',\n",
    "         alpha = 0.7)\n",
    "\n",
    "plt.xlabel('Order Count', fontweight ='bold', fontsize = 15)\n",
    "plt.ylabel('Customer ID', fontweight ='bold', fontsize = 15)\n",
    "# Show Plot\n",
    "plt.show()"
   ]
  },
  {
   "cell_type": "markdown",
   "metadata": {},
   "source": [
    "Plotly"
   ]
  },
  {
   "cell_type": "code",
   "execution_count": 20,
   "metadata": {},
   "outputs": [
    {
     "data": {
      "application/vnd.plotly.v1+json": {
       "config": {
        "plotlyServerURL": "https://plot.ly"
       },
       "data": [
        {
         "alignmentgroup": "True",
         "hovertemplate": "order_id=%{marker.color}<br>customer_id=%{y}<extra></extra>",
         "legendgroup": "",
         "marker": {
          "color": [
           8,
           8,
           8,
           7,
           6,
           6,
           4,
           4,
           4,
           4,
           4,
           4,
           4,
           4,
           4,
           4,
           4,
           4,
           4,
           4,
           4,
           4,
           4,
           4,
           4,
           4,
           4,
           4,
           4,
           4,
           4,
           4,
           4,
           4,
           4,
           4,
           4,
           4,
           4,
           4,
           4,
           4,
           4,
           4
          ],
          "coloraxis": "coloraxis",
          "pattern": {
           "shape": ""
          }
         },
         "name": "",
         "offsetgroup": "",
         "orientation": "h",
         "showlegend": false,
         "textposition": "auto",
         "type": "bar",
         "x": [
          8,
          8,
          8,
          7,
          6,
          6,
          4,
          4,
          4,
          4,
          4,
          4,
          4,
          4,
          4,
          4,
          4,
          4,
          4,
          4,
          4,
          4,
          4,
          4,
          4,
          4,
          4,
          4,
          4,
          4,
          4,
          4,
          4,
          4,
          4,
          4,
          4,
          4,
          4,
          4,
          4,
          4,
          4,
          4
         ],
         "xaxis": "x",
         "y": [
          "8335",
          "12870",
          "12085",
          "6282",
          "6279",
          "991",
          "8098",
          "5569",
          "5200",
          "12322",
          "5289",
          "5305",
          "5483",
          "12048",
          "5650",
          "5578",
          "5603",
          "11967",
          "11959",
          "11732",
          "11722",
          "11653",
          "5841",
          "11638",
          "12921",
          "5088",
          "6018",
          "13187",
          "16015",
          "15990",
          "3692",
          "3699",
          "15954",
          "3925",
          "3934",
          "15179",
          "15067",
          "14781",
          "8513",
          "4202",
          "14775",
          "4273",
          "14657",
          "13941"
         ],
         "yaxis": "y"
        }
       ],
       "layout": {
        "barmode": "relative",
        "coloraxis": {
         "colorbar": {
          "title": {
           "text": "order_id"
          }
         },
         "colorscale": [
          [
           0,
           "rgb(41, 24, 107)"
          ],
          [
           0.09090909090909091,
           "rgb(42, 35, 160)"
          ],
          [
           0.18181818181818182,
           "rgb(15, 71, 153)"
          ],
          [
           0.2727272727272727,
           "rgb(18, 95, 142)"
          ],
          [
           0.36363636363636365,
           "rgb(38, 116, 137)"
          ],
          [
           0.45454545454545453,
           "rgb(53, 136, 136)"
          ],
          [
           0.5454545454545454,
           "rgb(65, 157, 133)"
          ],
          [
           0.6363636363636364,
           "rgb(81, 178, 124)"
          ],
          [
           0.7272727272727273,
           "rgb(111, 198, 107)"
          ],
          [
           0.8181818181818182,
           "rgb(160, 214, 91)"
          ],
          [
           0.9090909090909091,
           "rgb(212, 225, 112)"
          ],
          [
           1,
           "rgb(253, 238, 153)"
          ]
         ]
        },
        "legend": {
         "tracegroupgap": 0
        },
        "template": {
         "data": {
          "bar": [
           {
            "error_x": {
             "color": "#2a3f5f"
            },
            "error_y": {
             "color": "#2a3f5f"
            },
            "marker": {
             "line": {
              "color": "#E5ECF6",
              "width": 0.5
             },
             "pattern": {
              "fillmode": "overlay",
              "size": 10,
              "solidity": 0.2
             }
            },
            "type": "bar"
           }
          ],
          "barpolar": [
           {
            "marker": {
             "line": {
              "color": "#E5ECF6",
              "width": 0.5
             },
             "pattern": {
              "fillmode": "overlay",
              "size": 10,
              "solidity": 0.2
             }
            },
            "type": "barpolar"
           }
          ],
          "carpet": [
           {
            "aaxis": {
             "endlinecolor": "#2a3f5f",
             "gridcolor": "white",
             "linecolor": "white",
             "minorgridcolor": "white",
             "startlinecolor": "#2a3f5f"
            },
            "baxis": {
             "endlinecolor": "#2a3f5f",
             "gridcolor": "white",
             "linecolor": "white",
             "minorgridcolor": "white",
             "startlinecolor": "#2a3f5f"
            },
            "type": "carpet"
           }
          ],
          "choropleth": [
           {
            "colorbar": {
             "outlinewidth": 0,
             "ticks": ""
            },
            "type": "choropleth"
           }
          ],
          "contour": [
           {
            "colorbar": {
             "outlinewidth": 0,
             "ticks": ""
            },
            "colorscale": [
             [
              0,
              "#0d0887"
             ],
             [
              0.1111111111111111,
              "#46039f"
             ],
             [
              0.2222222222222222,
              "#7201a8"
             ],
             [
              0.3333333333333333,
              "#9c179e"
             ],
             [
              0.4444444444444444,
              "#bd3786"
             ],
             [
              0.5555555555555556,
              "#d8576b"
             ],
             [
              0.6666666666666666,
              "#ed7953"
             ],
             [
              0.7777777777777778,
              "#fb9f3a"
             ],
             [
              0.8888888888888888,
              "#fdca26"
             ],
             [
              1,
              "#f0f921"
             ]
            ],
            "type": "contour"
           }
          ],
          "contourcarpet": [
           {
            "colorbar": {
             "outlinewidth": 0,
             "ticks": ""
            },
            "type": "contourcarpet"
           }
          ],
          "heatmap": [
           {
            "colorbar": {
             "outlinewidth": 0,
             "ticks": ""
            },
            "colorscale": [
             [
              0,
              "#0d0887"
             ],
             [
              0.1111111111111111,
              "#46039f"
             ],
             [
              0.2222222222222222,
              "#7201a8"
             ],
             [
              0.3333333333333333,
              "#9c179e"
             ],
             [
              0.4444444444444444,
              "#bd3786"
             ],
             [
              0.5555555555555556,
              "#d8576b"
             ],
             [
              0.6666666666666666,
              "#ed7953"
             ],
             [
              0.7777777777777778,
              "#fb9f3a"
             ],
             [
              0.8888888888888888,
              "#fdca26"
             ],
             [
              1,
              "#f0f921"
             ]
            ],
            "type": "heatmap"
           }
          ],
          "heatmapgl": [
           {
            "colorbar": {
             "outlinewidth": 0,
             "ticks": ""
            },
            "colorscale": [
             [
              0,
              "#0d0887"
             ],
             [
              0.1111111111111111,
              "#46039f"
             ],
             [
              0.2222222222222222,
              "#7201a8"
             ],
             [
              0.3333333333333333,
              "#9c179e"
             ],
             [
              0.4444444444444444,
              "#bd3786"
             ],
             [
              0.5555555555555556,
              "#d8576b"
             ],
             [
              0.6666666666666666,
              "#ed7953"
             ],
             [
              0.7777777777777778,
              "#fb9f3a"
             ],
             [
              0.8888888888888888,
              "#fdca26"
             ],
             [
              1,
              "#f0f921"
             ]
            ],
            "type": "heatmapgl"
           }
          ],
          "histogram": [
           {
            "marker": {
             "pattern": {
              "fillmode": "overlay",
              "size": 10,
              "solidity": 0.2
             }
            },
            "type": "histogram"
           }
          ],
          "histogram2d": [
           {
            "colorbar": {
             "outlinewidth": 0,
             "ticks": ""
            },
            "colorscale": [
             [
              0,
              "#0d0887"
             ],
             [
              0.1111111111111111,
              "#46039f"
             ],
             [
              0.2222222222222222,
              "#7201a8"
             ],
             [
              0.3333333333333333,
              "#9c179e"
             ],
             [
              0.4444444444444444,
              "#bd3786"
             ],
             [
              0.5555555555555556,
              "#d8576b"
             ],
             [
              0.6666666666666666,
              "#ed7953"
             ],
             [
              0.7777777777777778,
              "#fb9f3a"
             ],
             [
              0.8888888888888888,
              "#fdca26"
             ],
             [
              1,
              "#f0f921"
             ]
            ],
            "type": "histogram2d"
           }
          ],
          "histogram2dcontour": [
           {
            "colorbar": {
             "outlinewidth": 0,
             "ticks": ""
            },
            "colorscale": [
             [
              0,
              "#0d0887"
             ],
             [
              0.1111111111111111,
              "#46039f"
             ],
             [
              0.2222222222222222,
              "#7201a8"
             ],
             [
              0.3333333333333333,
              "#9c179e"
             ],
             [
              0.4444444444444444,
              "#bd3786"
             ],
             [
              0.5555555555555556,
              "#d8576b"
             ],
             [
              0.6666666666666666,
              "#ed7953"
             ],
             [
              0.7777777777777778,
              "#fb9f3a"
             ],
             [
              0.8888888888888888,
              "#fdca26"
             ],
             [
              1,
              "#f0f921"
             ]
            ],
            "type": "histogram2dcontour"
           }
          ],
          "mesh3d": [
           {
            "colorbar": {
             "outlinewidth": 0,
             "ticks": ""
            },
            "type": "mesh3d"
           }
          ],
          "parcoords": [
           {
            "line": {
             "colorbar": {
              "outlinewidth": 0,
              "ticks": ""
             }
            },
            "type": "parcoords"
           }
          ],
          "pie": [
           {
            "automargin": true,
            "type": "pie"
           }
          ],
          "scatter": [
           {
            "marker": {
             "colorbar": {
              "outlinewidth": 0,
              "ticks": ""
             }
            },
            "type": "scatter"
           }
          ],
          "scatter3d": [
           {
            "line": {
             "colorbar": {
              "outlinewidth": 0,
              "ticks": ""
             }
            },
            "marker": {
             "colorbar": {
              "outlinewidth": 0,
              "ticks": ""
             }
            },
            "type": "scatter3d"
           }
          ],
          "scattercarpet": [
           {
            "marker": {
             "colorbar": {
              "outlinewidth": 0,
              "ticks": ""
             }
            },
            "type": "scattercarpet"
           }
          ],
          "scattergeo": [
           {
            "marker": {
             "colorbar": {
              "outlinewidth": 0,
              "ticks": ""
             }
            },
            "type": "scattergeo"
           }
          ],
          "scattergl": [
           {
            "marker": {
             "colorbar": {
              "outlinewidth": 0,
              "ticks": ""
             }
            },
            "type": "scattergl"
           }
          ],
          "scattermapbox": [
           {
            "marker": {
             "colorbar": {
              "outlinewidth": 0,
              "ticks": ""
             }
            },
            "type": "scattermapbox"
           }
          ],
          "scatterpolar": [
           {
            "marker": {
             "colorbar": {
              "outlinewidth": 0,
              "ticks": ""
             }
            },
            "type": "scatterpolar"
           }
          ],
          "scatterpolargl": [
           {
            "marker": {
             "colorbar": {
              "outlinewidth": 0,
              "ticks": ""
             }
            },
            "type": "scatterpolargl"
           }
          ],
          "scatterternary": [
           {
            "marker": {
             "colorbar": {
              "outlinewidth": 0,
              "ticks": ""
             }
            },
            "type": "scatterternary"
           }
          ],
          "surface": [
           {
            "colorbar": {
             "outlinewidth": 0,
             "ticks": ""
            },
            "colorscale": [
             [
              0,
              "#0d0887"
             ],
             [
              0.1111111111111111,
              "#46039f"
             ],
             [
              0.2222222222222222,
              "#7201a8"
             ],
             [
              0.3333333333333333,
              "#9c179e"
             ],
             [
              0.4444444444444444,
              "#bd3786"
             ],
             [
              0.5555555555555556,
              "#d8576b"
             ],
             [
              0.6666666666666666,
              "#ed7953"
             ],
             [
              0.7777777777777778,
              "#fb9f3a"
             ],
             [
              0.8888888888888888,
              "#fdca26"
             ],
             [
              1,
              "#f0f921"
             ]
            ],
            "type": "surface"
           }
          ],
          "table": [
           {
            "cells": {
             "fill": {
              "color": "#EBF0F8"
             },
             "line": {
              "color": "white"
             }
            },
            "header": {
             "fill": {
              "color": "#C8D4E3"
             },
             "line": {
              "color": "white"
             }
            },
            "type": "table"
           }
          ]
         },
         "layout": {
          "annotationdefaults": {
           "arrowcolor": "#2a3f5f",
           "arrowhead": 0,
           "arrowwidth": 1
          },
          "autotypenumbers": "strict",
          "coloraxis": {
           "colorbar": {
            "outlinewidth": 0,
            "ticks": ""
           }
          },
          "colorscale": {
           "diverging": [
            [
             0,
             "#8e0152"
            ],
            [
             0.1,
             "#c51b7d"
            ],
            [
             0.2,
             "#de77ae"
            ],
            [
             0.3,
             "#f1b6da"
            ],
            [
             0.4,
             "#fde0ef"
            ],
            [
             0.5,
             "#f7f7f7"
            ],
            [
             0.6,
             "#e6f5d0"
            ],
            [
             0.7,
             "#b8e186"
            ],
            [
             0.8,
             "#7fbc41"
            ],
            [
             0.9,
             "#4d9221"
            ],
            [
             1,
             "#276419"
            ]
           ],
           "sequential": [
            [
             0,
             "#0d0887"
            ],
            [
             0.1111111111111111,
             "#46039f"
            ],
            [
             0.2222222222222222,
             "#7201a8"
            ],
            [
             0.3333333333333333,
             "#9c179e"
            ],
            [
             0.4444444444444444,
             "#bd3786"
            ],
            [
             0.5555555555555556,
             "#d8576b"
            ],
            [
             0.6666666666666666,
             "#ed7953"
            ],
            [
             0.7777777777777778,
             "#fb9f3a"
            ],
            [
             0.8888888888888888,
             "#fdca26"
            ],
            [
             1,
             "#f0f921"
            ]
           ],
           "sequentialminus": [
            [
             0,
             "#0d0887"
            ],
            [
             0.1111111111111111,
             "#46039f"
            ],
            [
             0.2222222222222222,
             "#7201a8"
            ],
            [
             0.3333333333333333,
             "#9c179e"
            ],
            [
             0.4444444444444444,
             "#bd3786"
            ],
            [
             0.5555555555555556,
             "#d8576b"
            ],
            [
             0.6666666666666666,
             "#ed7953"
            ],
            [
             0.7777777777777778,
             "#fb9f3a"
            ],
            [
             0.8888888888888888,
             "#fdca26"
            ],
            [
             1,
             "#f0f921"
            ]
           ]
          },
          "colorway": [
           "#636efa",
           "#EF553B",
           "#00cc96",
           "#ab63fa",
           "#FFA15A",
           "#19d3f3",
           "#FF6692",
           "#B6E880",
           "#FF97FF",
           "#FECB52"
          ],
          "font": {
           "color": "#2a3f5f"
          },
          "geo": {
           "bgcolor": "white",
           "lakecolor": "white",
           "landcolor": "#E5ECF6",
           "showlakes": true,
           "showland": true,
           "subunitcolor": "white"
          },
          "hoverlabel": {
           "align": "left"
          },
          "hovermode": "closest",
          "mapbox": {
           "style": "light"
          },
          "paper_bgcolor": "white",
          "plot_bgcolor": "#E5ECF6",
          "polar": {
           "angularaxis": {
            "gridcolor": "white",
            "linecolor": "white",
            "ticks": ""
           },
           "bgcolor": "#E5ECF6",
           "radialaxis": {
            "gridcolor": "white",
            "linecolor": "white",
            "ticks": ""
           }
          },
          "scene": {
           "xaxis": {
            "backgroundcolor": "#E5ECF6",
            "gridcolor": "white",
            "gridwidth": 2,
            "linecolor": "white",
            "showbackground": true,
            "ticks": "",
            "zerolinecolor": "white"
           },
           "yaxis": {
            "backgroundcolor": "#E5ECF6",
            "gridcolor": "white",
            "gridwidth": 2,
            "linecolor": "white",
            "showbackground": true,
            "ticks": "",
            "zerolinecolor": "white"
           },
           "zaxis": {
            "backgroundcolor": "#E5ECF6",
            "gridcolor": "white",
            "gridwidth": 2,
            "linecolor": "white",
            "showbackground": true,
            "ticks": "",
            "zerolinecolor": "white"
           }
          },
          "shapedefaults": {
           "line": {
            "color": "#2a3f5f"
           }
          },
          "ternary": {
           "aaxis": {
            "gridcolor": "white",
            "linecolor": "white",
            "ticks": ""
           },
           "baxis": {
            "gridcolor": "white",
            "linecolor": "white",
            "ticks": ""
           },
           "bgcolor": "#E5ECF6",
           "caxis": {
            "gridcolor": "white",
            "linecolor": "white",
            "ticks": ""
           }
          },
          "title": {
           "x": 0.05
          },
          "xaxis": {
           "automargin": true,
           "gridcolor": "white",
           "linecolor": "white",
           "ticks": "",
           "title": {
            "standoff": 15
           },
           "zerolinecolor": "white",
           "zerolinewidth": 2
          },
          "yaxis": {
           "automargin": true,
           "gridcolor": "white",
           "linecolor": "white",
           "ticks": "",
           "title": {
            "standoff": 15
           },
           "zerolinecolor": "white",
           "zerolinewidth": 2
          }
         }
        },
        "title": {
         "text": "Loyality Programme %10"
        },
        "xaxis": {
         "anchor": "y",
         "domain": [
          0,
          1
         ],
         "showticklabels": true,
         "title": {
          "text": "Order Count"
         }
        },
        "yaxis": {
         "anchor": "x",
         "autorange": "reversed",
         "domain": [
          0,
          1
         ],
         "showticklabels": true,
         "title": {
          "text": "Product ID"
         }
        }
       }
      }
     },
     "metadata": {},
     "output_type": "display_data"
    }
   ],
   "source": [
    "figy = px.bar(\n",
    "    data, x='order_id', y=\"customer_id\", orientation='h', color='order_id', \n",
    "    color_continuous_scale=px.colors.sequential.haline,\n",
    "    title='Loyality Programme %10'\n",
    ")\n",
    "figy.update_xaxes(title='Order Count', showticklabels=True)\n",
    "figy.update_yaxes(title='Product ID', showticklabels=True, autorange=\"reversed\")\n",
    "figy.show()"
   ]
  },
  {
   "cell_type": "markdown",
   "metadata": {},
   "source": [
    "Just One time Order"
   ]
  },
  {
   "cell_type": "code",
   "execution_count": 16,
   "metadata": {},
   "outputs": [
    {
     "data": {
      "text/html": [
       "<div>\n",
       "<style scoped>\n",
       "    .dataframe tbody tr th:only-of-type {\n",
       "        vertical-align: middle;\n",
       "    }\n",
       "\n",
       "    .dataframe tbody tr th {\n",
       "        vertical-align: top;\n",
       "    }\n",
       "\n",
       "    .dataframe thead th {\n",
       "        text-align: right;\n",
       "    }\n",
       "</style>\n",
       "<table border=\"1\" class=\"dataframe\">\n",
       "  <thead>\n",
       "    <tr style=\"text-align: right;\">\n",
       "      <th></th>\n",
       "      <th>name</th>\n",
       "      <th>customer_id</th>\n",
       "      <th>order_count</th>\n",
       "    </tr>\n",
       "  </thead>\n",
       "  <tbody>\n",
       "    <tr>\n",
       "      <th>0</th>\n",
       "      <td>(Fifth Avenue Hotel?}</td>\n",
       "      <td>12</td>\n",
       "      <td>1</td>\n",
       "    </tr>\n",
       "    <tr>\n",
       "      <th>1</th>\n",
       "      <td>Society Of Colonial Wars In The State Of New J...</td>\n",
       "      <td>6256</td>\n",
       "      <td>1</td>\n",
       "    </tr>\n",
       "    <tr>\n",
       "      <th>2</th>\n",
       "      <td>Society Of Colonial Wars In The State Of New J...</td>\n",
       "      <td>6260</td>\n",
       "      <td>1</td>\n",
       "    </tr>\n",
       "    <tr>\n",
       "      <th>3</th>\n",
       "      <td>Society Of Colonial Wars In The State Of New J...</td>\n",
       "      <td>6291</td>\n",
       "      <td>1</td>\n",
       "    </tr>\n",
       "    <tr>\n",
       "      <th>4</th>\n",
       "      <td>Society Of Colonial Wars In The State Of New J...</td>\n",
       "      <td>6328</td>\n",
       "      <td>1</td>\n",
       "    </tr>\n",
       "    <tr>\n",
       "      <th>...</th>\n",
       "      <td>...</td>\n",
       "      <td>...</td>\n",
       "      <td>...</td>\n",
       "    </tr>\n",
       "    <tr>\n",
       "      <th>23239</th>\n",
       "      <td>Kalils Restaurant</td>\n",
       "      <td>6653</td>\n",
       "      <td>1</td>\n",
       "    </tr>\n",
       "    <tr>\n",
       "      <th>23240</th>\n",
       "      <td>The Hotel Roosevelt</td>\n",
       "      <td>12170</td>\n",
       "      <td>1</td>\n",
       "    </tr>\n",
       "    <tr>\n",
       "      <th>23241</th>\n",
       "      <td>The Lyric Theatre</td>\n",
       "      <td>19288</td>\n",
       "      <td>1</td>\n",
       "    </tr>\n",
       "    <tr>\n",
       "      <th>23242</th>\n",
       "      <td>The Pullman Company</td>\n",
       "      <td>10068</td>\n",
       "      <td>1</td>\n",
       "    </tr>\n",
       "    <tr>\n",
       "      <th>23243</th>\n",
       "      <td>The Pullman Company</td>\n",
       "      <td>10193</td>\n",
       "      <td>1</td>\n",
       "    </tr>\n",
       "  </tbody>\n",
       "</table>\n",
       "<p>23244 rows × 3 columns</p>\n",
       "</div>"
      ],
      "text/plain": [
       "                                                    name  customer_id  \\\n",
       "0                                  (Fifth Avenue Hotel?}           12   \n",
       "1      Society Of Colonial Wars In The State Of New J...         6256   \n",
       "2      Society Of Colonial Wars In The State Of New J...         6260   \n",
       "3      Society Of Colonial Wars In The State Of New J...         6291   \n",
       "4      Society Of Colonial Wars In The State Of New J...         6328   \n",
       "...                                                  ...          ...   \n",
       "23239                                  Kalils Restaurant         6653   \n",
       "23240                                The Hotel Roosevelt        12170   \n",
       "23241                                  The Lyric Theatre        19288   \n",
       "23242                                The Pullman Company        10068   \n",
       "23243                                The Pullman Company        10193   \n",
       "\n",
       "       order_count  \n",
       "0                1  \n",
       "1                1  \n",
       "2                1  \n",
       "3                1  \n",
       "4                1  \n",
       "...            ...  \n",
       "23239            1  \n",
       "23240            1  \n",
       "23241            1  \n",
       "23242            1  \n",
       "23243            1  \n",
       "\n",
       "[23244 rows x 3 columns]"
      ]
     },
     "execution_count": 16,
     "metadata": {},
     "output_type": "execute_result"
    }
   ],
   "source": [
    "unsatisfied_customer_df = final_df.groupby(['name','customer_id'])['order_id'].count().sort_values(ascending=True).reset_index()\n",
    "unsatisfied_customer_df.rename(columns={\"order_id\":\"order_count\"},inplace=True)\n",
    "unsatisfied_customer_df[unsatisfied_customer_df['order_count'] <= 1]"
   ]
  }
 ],
 "metadata": {
  "interpreter": {
   "hash": "63fd5069d213b44bf678585dea6b12cceca9941eaf7f819626cde1f2670de90d"
  },
  "kernelspec": {
   "display_name": "Python 3.9.5 64-bit",
   "language": "python",
   "name": "python3"
  },
  "language_info": {
   "codemirror_mode": {
    "name": "ipython",
    "version": 3
   },
   "file_extension": ".py",
   "mimetype": "text/x-python",
   "name": "python",
   "nbconvert_exporter": "python",
   "pygments_lexer": "ipython3",
   "version": "3.9.5"
  },
  "orig_nbformat": 4
 },
 "nbformat": 4,
 "nbformat_minor": 2
}
